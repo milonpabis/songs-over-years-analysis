{
 "cells": [
  {
   "cell_type": "markdown",
   "id": "628b6e3b-3d72-4f6d-b939-5fbec6e96498",
   "metadata": {},
   "source": [
    "<div style=\"background: rgb(232, 232, 255); padding-left: 10px; border: 1px solid black; font-family: Monospace; border-radius: 15px; box-shadow: 2px 2px 0px 0px rgba(0,0,0,0.7);\">\n",
    "\n",
    "# Dataset Creation\n",
    "\n",
    "I am going to create a database with a huge number of songs, storing their **features**, as well as the **lyrics**.<br><br>\n",
    "Steps I am going to take in order to create a database:<br>\n",
    "\n",
    "- Scrape **TOP 100 Songs** for every week across ~60 years from **www.officialcharts.com**\n",
    "- For every scraped song, search for the song using **Spotify API**\n",
    "- For every found song, store it's info (album, artist, ...)\n",
    "- For every distinct **album** save all the tracks\n",
    "- For every song, extract it's **technical features**\n",
    "\n",
    "<img src=\"db_management/other/ERD_songs.JPG\" width=1100>\n"
   ]
  },
  {
   "cell_type": "markdown",
   "id": "bcb1a3f2-c8eb-4778-9ea0-e575e89e9bce",
   "metadata": {},
   "source": [
    "---"
   ]
  },
  {
   "cell_type": "code",
   "execution_count": 1,
   "id": "239b4c73-1e08-4bfd-96e1-d8b367a4b4df",
   "metadata": {},
   "outputs": [],
   "source": [
    "import pandas as pd\n",
    "import numpy as np\n",
    "import requests\n",
    "import spotipy\n",
    "from spotipy.oauth2 import SpotifyOAuth\n",
    "import os\n",
    "from datetime import datetime, timedelta\n",
    "from time import sleep\n",
    "from bs4 import BeautifulSoup\n",
    "from typing import Tuple, List, NamedTuple\n",
    "from db_management.db import SongInfo, IDSongInfo, SongsContainer, SongsDB, DBException, ArtistInfo, AlbumInfo, SongFeatures"
   ]
  },
  {
   "cell_type": "markdown",
   "id": "8784203e-3c92-48a7-8de3-9c41ff2a4d7d",
   "metadata": {},
   "source": [
    "<div style=\"background: rgb(232, 232, 255); padding-left: 10px; border: 1px solid black; font-family: Monospace; border-radius: 15px; box-shadow: 2px 2px 0px 0px rgba(0,0,0,0.7);\">\n",
    "\n",
    "### Connecting with the Spotify API"
   ]
  },
  {
   "cell_type": "code",
   "execution_count": 2,
   "id": "68efd823-965c-4091-8d01-078b5de9d782",
   "metadata": {},
   "outputs": [],
   "source": [
    "CLIENT_ID = os.environ[\"SPOTIFY_CLIENT_ID\"]\n",
    "CLIENT_SECRET = os.environ[\"SPOTIFY_CLIENT_SECRET\"]\n",
    "\n",
    "sp = spotipy.Spotify(auth_manager=SpotifyOAuth(client_id=CLIENT_ID, client_secret=CLIENT_SECRET, redirect_uri='http://example.com', scope=\"playlist-modify-public\"))"
   ]
  },
  {
   "cell_type": "markdown",
   "id": "15a11fa4-7102-4c9f-b6d8-a0e820fa19d2",
   "metadata": {},
   "source": [
    "<div style=\"background: rgb(232, 232, 255); padding-left: 10px; border: 1px solid black; font-family: Monospace; border-radius: 15px; box-shadow: 2px 2px 0px 0px rgba(0,0,0,0.7);\">\n",
    "\n",
    "### Function generating the date range in given format"
   ]
  },
  {
   "cell_type": "code",
   "execution_count": 3,
   "id": "bb9daeeb-c883-4caf-ac6d-b0099150f78e",
   "metadata": {},
   "outputs": [],
   "source": [
    "ENDPOINT_CHARTS = \"https://www.officialcharts.com/charts/singles-chart/%s/7501/\"\n",
    "\n",
    "def generate_dates(week_gap: int = 2, years_back: int = 50):\n",
    "\n",
    "    today = datetime.now()\n",
    "    start_date = today - timedelta(days=365*years_back)\n",
    "    print(len([n for n in range(int((today-start_date).days//(week_gap*7)))]))\n",
    "    \n",
    "    for n in range(int((today - start_date).days//(week_gap*7))):\n",
    "        yield start_date + timedelta(days=n*week_gap*7)"
   ]
  },
  {
   "cell_type": "markdown",
   "id": "d4a4e61c-ca2e-41b6-8c58-d0dd927a9759",
   "metadata": {},
   "source": [
    "<div style=\"background: rgb(232, 232, 255); padding-left: 10px; border: 1px solid black; font-family: Monospace; border-radius: 15px; box-shadow: 2px 2px 0px 0px rgba(0,0,0,0.7);\">\n",
    "\n",
    "## Scraping TOP 100 songs across 60 years\n",
    "\n",
    "I made this step before creating a database, so here I store the results to the **CSV** file, however after the database was implemented, I just created a function to populate the table, using the created csv."
   ]
  },
  {
   "cell_type": "code",
   "execution_count": 4,
   "id": "e058f0a6-c7cb-44d4-87ab-fe2e20956a14",
   "metadata": {},
   "outputs": [],
   "source": [
    "def retrieve_top_songs(date: str, container: SongsContainer) -> SongsContainer:\n",
    "    try:\n",
    "        response = requests.get(ENDPOINT_CHARTS % date)\n",
    "        response.raise_for_status()\n",
    "        soup = BeautifulSoup(response.text, \"html.parser\")\n",
    "        items = soup.find_all(\"div\", {\"class\": \"chart-item\"})\n",
    "\n",
    "        for item in items:\n",
    "            try:\n",
    "                song = item.find(\"a\", {\"class\": \"chart-name\"}).find(\"span\", {\"class\": None})\n",
    "                artist = item.find(\"a\", {\"class\": \"chart-artist\"}).find(\"span\", {\"class\": None})\n",
    "    \n",
    "                container.add_song(SongInfo(artist.text, song.text))\n",
    "            except:\n",
    "                continue\n",
    "        return container\n",
    "        \n",
    "    except Exception as exception:\n",
    "        print(exception)"
   ]
  },
  {
   "cell_type": "code",
   "execution_count": 107,
   "id": "be83ca58-28d0-40d3-981b-d7e17037ec0a",
   "metadata": {},
   "outputs": [
    {
     "name": "stdout",
     "output_type": "stream",
     "text": [
      "3128\n",
      "100 19660615\n",
      "201 19680522\n",
      "302 19700429\n",
      "403 19720405\n",
      "504 19740313\n",
      "605 19760218\n",
      "706 19780125\n",
      "807 19800102\n",
      "908 19811209\n",
      "1009 19831116\n",
      "1110 19851023\n",
      "1211 19870930\n",
      "1312 19890906\n",
      "1413 19910814\n",
      "1514 19930721\n",
      "1615 19950628\n",
      "1716 19970604\n",
      "1817 19990512\n",
      "1918 20010418\n",
      "2019 20030326\n",
      "2120 20050302\n",
      "2221 20070207\n",
      "2322 20090114\n",
      "2423 20101222\n",
      "2524 20121128\n",
      "2625 20141105\n",
      "2726 20161012\n",
      "2827 20180919\n",
      "2928 20200826\n",
      "3029 20220803\n"
     ]
    }
   ],
   "source": [
    "songs = SongsContainer()\n",
    "for idx, single_date in enumerate(generate_dates(week_gap=1, years_back=60)):\n",
    "    date = single_date.strftime(\"%Y%m%d\")\n",
    "    retrieve_top_songs(date, songs)\n",
    "    if idx % 101 == 100:\n",
    "        print(idx, date)"
   ]
  },
  {
   "cell_type": "code",
   "execution_count": 108,
   "id": "c0f0fe7f-35ec-43a2-b196-7f0c0b247e2c",
   "metadata": {},
   "outputs": [
    {
     "data": {
      "text/plain": [
       "43220"
      ]
     },
     "execution_count": 108,
     "metadata": {},
     "output_type": "execute_result"
    }
   ],
   "source": [
    "len(songs)"
   ]
  },
  {
   "cell_type": "markdown",
   "id": "41e50162-76fe-43d4-b2cf-2016a5f520c6",
   "metadata": {},
   "source": [
    "<div style=\"background: rgb(232, 232, 255); padding-left: 10px; border: 1px solid black; font-family: Monospace; border-radius: 15px; box-shadow: 2px 2px 0px 0px rgba(0,0,0,0.7);\">\n",
    "\n",
    "### Connecting the database\n",
    "\n",
    "Here I also populate the table with the scraped songs (title and artist)."
   ]
  },
  {
   "cell_type": "code",
   "execution_count": 3,
   "id": "b2738af8-b201-4e6f-9eaa-4a1a795d9d8c",
   "metadata": {},
   "outputs": [],
   "source": [
    "database = SongsDB()"
   ]
  },
  {
   "cell_type": "code",
   "execution_count": 6,
   "id": "84426860-2a38-4ea3-aac5-54d7fa9da9d7",
   "metadata": {},
   "outputs": [],
   "source": [
    "database.songs_populate_csv(\"songs2.csv\")"
   ]
  },
  {
   "cell_type": "code",
   "execution_count": 4,
   "id": "ae687874-48da-40dc-b276-7a09e8f9848f",
   "metadata": {},
   "outputs": [
    {
     "name": "stdout",
     "output_type": "stream",
     "text": [
      "HOUSE OF THE RISING SUN THE ANIMALS\n",
      "IT'S ALL OVER NOW THE ROLLING STONES\n",
      "HOLD ME P J PROBY\n",
      "IT'S OVER ROY ORBISON\n",
      "RAMONA THE BACHELORS\n"
     ]
    }
   ],
   "source": [
    "for idx, title, artist in database.get_scraped_songs()[:5]:\n",
    "    print(title, artist)"
   ]
  },
  {
   "cell_type": "markdown",
   "id": "dd13082b-04cd-4e2e-a136-e568e0c051c1",
   "metadata": {},
   "source": [
    "<div style=\"background: rgb(232, 232, 255); padding-left: 10px; border: 1px solid black; font-family: Monospace; border-radius: 15px; box-shadow: 2px 2px 0px 0px rgba(0,0,0,0.7);\">\n",
    "\n",
    "## Searching for the songs using Spotify API\n",
    "\n",
    "The only problem was the **rate limit**, which I dodged using the sleep method (180 requests per minute), however Spotify implemented some other limits, not sharing info about, so I got freezed, and therefore had to continue the next day."
   ]
  },
  {
   "cell_type": "code",
   "execution_count": 7,
   "id": "25be0715-9572-4d85-9c84-df72ff7f1d74",
   "metadata": {},
   "outputs": [],
   "source": [
    "def get_song_id(s: SongInfo) -> IDSongInfo:\n",
    "    ext_info = sp.search(q=f\"track: {s.song} artist: {s.artist}\", type='track', limit=1)\n",
    "    item = ext_info[\"tracks\"][\"items\"][0]\n",
    "    \n",
    "    song_id = item[\"id\"]\n",
    "    album_id = item[\"album\"][\"id\"]\n",
    "    artist_id = item[\"artists\"][0][\"id\"]\n",
    "    title = item[\"name\"]\n",
    "    release_date = item[\"album\"][\"release_date\"]\n",
    "    featured = int(len(item[\"artists\"]) > 1)\n",
    "    popularity = item[\"popularity\"]\n",
    "\n",
    "    return IDSongInfo(song_id, album_id, artist_id, title, release_date, featured, popularity)"
   ]
  },
  {
   "cell_type": "code",
   "execution_count": 8,
   "id": "6cf82818-c9ac-473b-8279-3f84412575f5",
   "metadata": {},
   "outputs": [
    {
     "name": "stdout",
     "output_type": "stream",
     "text": [
      "24450: cooldown 5s... TIME:0:00:17.342091 SKIPPED: 39\n",
      "24500: cooldown 5s... TIME:0:00:40.385582 SKIPPED: 79\n",
      "24650: cooldown 5s... TIME:0:01:36.293843 SKIPPED: 192\n",
      "24850: cooldown 5s... TIME:0:02:49.205855 SKIPPED: 349\n",
      "24950: cooldown 5s... TIME:0:03:27.405053 SKIPPED: 427\n",
      "25000: cooldown 5s... TIME:0:03:50.034166 SKIPPED: 461\n",
      "25100: cooldown 5s... TIME:0:04:28.863586 SKIPPED: 492\n",
      "25150: cooldown 5s... TIME:0:04:52.000217 SKIPPED: 503\n",
      "25200: cooldown 5s... TIME:0:05:14.106779 SKIPPED: 519\n",
      "25250: cooldown 5s... TIME:0:05:37.031791 SKIPPED: 532\n",
      "25300: cooldown 5s... TIME:0:05:59.165291 SKIPPED: 544\n",
      "25400: cooldown 5s... TIME:0:06:40.137510 SKIPPED: 570\n",
      "25450: cooldown 5s... TIME:0:07:03.065331 SKIPPED: 583\n",
      "25500: cooldown 5s... TIME:0:07:28.264610 SKIPPED: 596\n",
      "25550: cooldown 5s... TIME:0:07:53.641632 SKIPPED: 608\n",
      "25850: cooldown 5s... TIME:0:09:48.652726 SKIPPED: 679\n",
      "25950: cooldown 5s... TIME:0:10:31.560313 SKIPPED: 708\n",
      "26000: cooldown 5s... TIME:0:10:55.938681 SKIPPED: 722\n",
      "26050: cooldown 5s... TIME:0:11:19.469646 SKIPPED: 736\n",
      "26100: cooldown 5s... TIME:0:11:43.949107 SKIPPED: 748\n",
      "26150: cooldown 5s... TIME:0:12:06.693884 SKIPPED: 761\n",
      "26200: cooldown 5s... TIME:0:12:29.766590 SKIPPED: 771\n",
      "26250: cooldown 5s... TIME:0:12:54.422897 SKIPPED: 782\n",
      "26300: cooldown 5s... TIME:0:13:17.266044 SKIPPED: 797\n",
      "26350: cooldown 5s... TIME:0:13:40.297483 SKIPPED: 807\n",
      "26500: cooldown 5s... TIME:0:14:35.499189 SKIPPED: 845\n",
      "26550: cooldown 5s... TIME:0:14:56.851904 SKIPPED: 854\n",
      "26850: cooldown 5s... TIME:0:16:55.902639 SKIPPED: 926\n",
      "26900: cooldown 5s... TIME:0:17:18.624375 SKIPPED: 936\n",
      "27000: cooldown 5s... TIME:0:18:03.580163 SKIPPED: 965\n",
      "27050: cooldown 5s... TIME:0:18:27.449257 SKIPPED: 980\n",
      "27100: cooldown 5s... TIME:0:18:52.118438 SKIPPED: 995\n",
      "27150: cooldown 5s... TIME:0:19:14.538177 SKIPPED: 1010\n",
      "27250: cooldown 5s... TIME:0:19:54.769283 SKIPPED: 1034\n",
      "27300: cooldown 5s... TIME:0:20:19.262585 SKIPPED: 1049\n",
      "27350: cooldown 5s... TIME:0:20:45.380394 SKIPPED: 1062\n",
      "27400: cooldown 5s... TIME:0:21:10.149714 SKIPPED: 1078\n",
      "27450: cooldown 5s... TIME:0:21:33.912089 SKIPPED: 1090\n",
      "27550: cooldown 5s... TIME:0:22:17.107652 SKIPPED: 1118\n",
      "27650: cooldown 5s... TIME:0:22:58.586027 SKIPPED: 1152\n",
      "27700: cooldown 5s... TIME:0:23:20.809943 SKIPPED: 1167\n",
      "HTTPSConnectionPool(host='api.spotify.com', port=443): Read timed out. (read timeout=5)\n",
      "27750: cooldown 5s... TIME:0:23:57.265541 SKIPPED: 1180\n",
      "27800: cooldown 5s... TIME:0:24:19.068101 SKIPPED: 1192\n",
      "27900: cooldown 5s... TIME:0:24:58.092127 SKIPPED: 1220\n",
      "27950: cooldown 5s... TIME:0:25:20.003192 SKIPPED: 1238\n",
      "28000: cooldown 5s... TIME:0:25:41.164215 SKIPPED: 1251\n",
      "28150: cooldown 5s... TIME:0:26:36.713522 SKIPPED: 1298\n",
      "28200: cooldown 5s... TIME:0:26:58.103733 SKIPPED: 1308\n",
      "28300: cooldown 5s... TIME:0:27:36.403165 SKIPPED: 1339\n",
      "28350: cooldown 5s... TIME:0:27:58.234985 SKIPPED: 1352\n",
      "28400: cooldown 5s... TIME:0:28:20.541704 SKIPPED: 1364\n",
      "28450: cooldown 5s... TIME:0:28:43.377121 SKIPPED: 1377\n",
      "28500: cooldown 5s... TIME:0:29:04.759927 SKIPPED: 1396\n",
      "28600: cooldown 5s... TIME:0:29:44.181823 SKIPPED: 1429\n",
      "28650: cooldown 5s... TIME:0:30:05.872662 SKIPPED: 1436\n",
      "28700: cooldown 5s... TIME:0:30:27.328834 SKIPPED: 1448\n",
      "28750: cooldown 5s... TIME:0:30:49.739396 SKIPPED: 1462\n",
      "28850: cooldown 5s... TIME:0:31:28.760360 SKIPPED: 1494\n",
      "28900: cooldown 5s... TIME:0:31:50.571123 SKIPPED: 1509\n",
      "29050: cooldown 5s... TIME:0:32:45.869831 SKIPPED: 1543\n",
      "29150: cooldown 5s... TIME:0:33:23.038982 SKIPPED: 1574\n",
      "29200: cooldown 5s... TIME:0:33:44.193279 SKIPPED: 1587\n",
      "29250: cooldown 5s... TIME:0:34:05.745881 SKIPPED: 1590\n",
      "29400: cooldown 5s... TIME:0:35:01.556251 SKIPPED: 1631\n",
      "29500: cooldown 5s... TIME:0:35:39.863287 SKIPPED: 1656\n",
      "29600: cooldown 5s... TIME:0:36:18.153636 SKIPPED: 1684\n",
      "29650: cooldown 5s... TIME:0:36:39.432517 SKIPPED: 1699\n",
      "29700: cooldown 5s... TIME:0:37:00.952256 SKIPPED: 1715\n",
      "29800: cooldown 5s... TIME:0:37:39.150009 SKIPPED: 1750\n",
      "29850: cooldown 5s... TIME:0:38:00.756030 SKIPPED: 1764\n",
      "29950: cooldown 5s... TIME:0:38:39.059955 SKIPPED: 1787\n",
      "30050: cooldown 5s... TIME:0:39:17.972789 SKIPPED: 1810\n",
      "30150: cooldown 5s... TIME:0:39:57.501857 SKIPPED: 1838\n",
      "30200: cooldown 5s... TIME:0:40:19.218085 SKIPPED: 1851\n",
      "30250: cooldown 5s... TIME:0:40:41.721615 SKIPPED: 1860\n",
      "30300: cooldown 5s... TIME:0:41:03.143113 SKIPPED: 1874\n",
      "30400: cooldown 5s... TIME:0:41:42.051073 SKIPPED: 1902\n",
      "30450: cooldown 5s... TIME:0:42:03.659038 SKIPPED: 1919\n",
      "30500: cooldown 5s... TIME:0:42:26.379867 SKIPPED: 1935\n",
      "30600: cooldown 5s... TIME:0:43:05.099879 SKIPPED: 1958\n",
      "30650: cooldown 5s... TIME:0:43:26.941650 SKIPPED: 1973\n",
      "30700: cooldown 5s... TIME:0:43:49.645092 SKIPPED: 1988\n",
      "30850: cooldown 5s... TIME:0:44:44.426677 SKIPPED: 2021\n",
      "30950: cooldown 5s... TIME:0:45:22.736350 SKIPPED: 2053\n",
      "31000: cooldown 5s... TIME:0:45:44.541584 SKIPPED: 2066\n",
      "31050: cooldown 5s... TIME:0:46:06.464555 SKIPPED: 2082\n",
      "31100: cooldown 5s... TIME:0:46:28.468364 SKIPPED: 2095\n",
      "31200: cooldown 5s... TIME:0:47:07.575597 SKIPPED: 2127\n",
      "31250: cooldown 5s... TIME:0:47:30.025886 SKIPPED: 2143\n",
      "31300: cooldown 5s... TIME:0:47:51.821939 SKIPPED: 2154\n",
      "31500: cooldown 5s... TIME:0:49:04.743053 SKIPPED: 2212\n",
      "31550: cooldown 5s... TIME:0:49:27.686249 SKIPPED: 2222\n",
      "31600: cooldown 5s... TIME:0:49:49.697275 SKIPPED: 2236\n",
      "31700: cooldown 5s... TIME:0:50:29.335430 SKIPPED: 2266\n",
      "31800: cooldown 5s... TIME:0:51:08.856297 SKIPPED: 2289\n",
      "31850: cooldown 5s... TIME:0:51:31.076957 SKIPPED: 2304\n",
      "31950: cooldown 5s... TIME:0:52:09.981052 SKIPPED: 2332\n",
      "32000: cooldown 5s... TIME:0:52:31.805426 SKIPPED: 2343\n",
      "32050: cooldown 5s... TIME:0:52:54.299647 SKIPPED: 2360\n",
      "32100: cooldown 5s... TIME:0:53:16.347530 SKIPPED: 2373\n",
      "32150: cooldown 5s... TIME:0:53:37.786453 SKIPPED: 2386\n",
      "32250: cooldown 5s... TIME:0:54:16.974070 SKIPPED: 2415\n",
      "32300: cooldown 5s... TIME:0:54:39.192938 SKIPPED: 2431\n",
      "32350: cooldown 5s... TIME:0:55:00.579366 SKIPPED: 2444\n",
      "32450: cooldown 5s... TIME:0:55:38.382834 SKIPPED: 2478\n",
      "32500: cooldown 5s... TIME:0:56:00.066055 SKIPPED: 2491\n",
      "32550: cooldown 5s... TIME:0:56:22.210941 SKIPPED: 2502\n",
      "32600: cooldown 5s... TIME:0:56:45.153847 SKIPPED: 2520\n",
      "32650: cooldown 5s... TIME:0:57:07.478456 SKIPPED: 2529\n",
      "32900: cooldown 5s... TIME:0:58:37.276743 SKIPPED: 2604\n",
      "32950: cooldown 5s... TIME:0:58:58.894448 SKIPPED: 2620\n",
      "33000: cooldown 5s... TIME:0:59:21.630489 SKIPPED: 2634\n",
      "33100: cooldown 5s... TIME:1:00:00.131471 SKIPPED: 2662\n",
      "33150: cooldown 5s... TIME:1:00:22.250634 SKIPPED: 2673\n",
      "33200: cooldown 5s... TIME:1:00:44.451263 SKIPPED: 2683\n",
      "33300: cooldown 5s... TIME:1:01:23.174934 SKIPPED: 2705\n",
      "33450: cooldown 5s... TIME:1:02:19.684965 SKIPPED: 2743\n",
      "33550: cooldown 5s... TIME:1:02:58.308437 SKIPPED: 2772\n",
      "33600: cooldown 5s... TIME:1:03:19.814949 SKIPPED: 2776\n",
      "33700: cooldown 5s... TIME:1:03:59.750402 SKIPPED: 2805\n",
      "33750: cooldown 5s... TIME:1:04:22.021585 SKIPPED: 2827\n",
      "33800: cooldown 5s... TIME:1:04:46.798023 SKIPPED: 2843\n",
      "33850: cooldown 5s... TIME:1:05:09.641867 SKIPPED: 2857\n",
      "33900: cooldown 5s... TIME:1:05:33.086890 SKIPPED: 2874\n",
      "33950: cooldown 5s... TIME:1:06:00.432856 SKIPPED: 2891\n",
      "34000: cooldown 5s... TIME:1:06:23.623671 SKIPPED: 2904\n",
      "34050: cooldown 5s... TIME:1:06:48.152392 SKIPPED: 2916\n",
      "34100: cooldown 5s... TIME:1:07:14.061201 SKIPPED: 2937\n",
      "34150: cooldown 5s... TIME:1:07:37.297300 SKIPPED: 2952\n",
      "34250: cooldown 5s... TIME:1:08:20.383687 SKIPPED: 2985\n",
      "34350: cooldown 5s... TIME:1:09:07.836209 SKIPPED: 3017\n",
      "34400: cooldown 5s... TIME:1:09:36.300757 SKIPPED: 3033\n",
      "34500: cooldown 5s... TIME:1:10:29.647828 SKIPPED: 3057\n",
      "34550: cooldown 5s... TIME:1:10:54.329832 SKIPPED: 3074\n",
      "34750: cooldown 5s... TIME:1:12:22.398822 SKIPPED: 3134\n",
      "34800: cooldown 5s... TIME:1:12:50.660823 SKIPPED: 3147\n",
      "34900: cooldown 5s... TIME:1:13:38.282287 SKIPPED: 3173\n",
      "34950: cooldown 5s... TIME:1:14:03.778445 SKIPPED: 3185\n",
      "35000: cooldown 5s... TIME:1:14:32.641098 SKIPPED: 3198\n",
      "35100: cooldown 5s... TIME:1:15:23.550452 SKIPPED: 3222\n",
      "35150: cooldown 5s... TIME:1:15:46.496645 SKIPPED: 3236\n",
      "35200: cooldown 5s... TIME:1:16:10.213201 SKIPPED: 3248\n",
      "35250: cooldown 5s... TIME:1:16:33.909175 SKIPPED: 3262\n",
      "35350: cooldown 5s... TIME:1:17:16.659001 SKIPPED: 3287\n",
      "35400: cooldown 5s... TIME:1:17:40.653152 SKIPPED: 3300\n",
      "35450: cooldown 5s... TIME:1:18:04.951984 SKIPPED: 3307\n",
      "35500: cooldown 5s... TIME:1:18:29.072427 SKIPPED: 3315\n",
      "35550: cooldown 5s... TIME:1:18:53.673383 SKIPPED: 3328\n",
      "35600: cooldown 5s... TIME:1:19:12.570595 SKIPPED: 3336\n",
      "35650: cooldown 5s... TIME:1:19:32.208801 SKIPPED: 3348\n",
      "35700: cooldown 5s... TIME:1:19:51.969346 SKIPPED: 3360\n",
      "35750: cooldown 5s... TIME:1:20:10.737270 SKIPPED: 3374\n",
      "35800: cooldown 5s... TIME:1:20:30.309712 SKIPPED: 3385\n",
      "35850: cooldown 5s... TIME:1:20:50.492117 SKIPPED: 3400\n",
      "35900: cooldown 5s... TIME:1:21:08.701578 SKIPPED: 3417\n",
      "35950: cooldown 5s... TIME:1:21:27.823778 SKIPPED: 3426\n",
      "36050: cooldown 5s... TIME:1:22:01.392276 SKIPPED: 3457\n",
      "36100: cooldown 5s... TIME:1:22:22.319696 SKIPPED: 3467\n",
      "36150: cooldown 5s... TIME:1:22:42.864276 SKIPPED: 3477\n",
      "36250: cooldown 5s... TIME:1:23:15.597092 SKIPPED: 3499\n",
      "36300: cooldown 5s... TIME:1:23:35.243604 SKIPPED: 3509\n",
      "36350: cooldown 5s... TIME:1:23:54.416394 SKIPPED: 3521\n",
      "36400: cooldown 5s... TIME:1:24:13.435477 SKIPPED: 3536\n",
      "36450: cooldown 5s... TIME:1:24:32.218982 SKIPPED: 3543\n",
      "36500: cooldown 5s... TIME:1:24:51.671680 SKIPPED: 3553\n",
      "36550: cooldown 5s... TIME:1:25:10.429704 SKIPPED: 3560\n",
      "36600: cooldown 5s... TIME:1:25:30.080413 SKIPPED: 3573\n",
      "36650: cooldown 5s... TIME:1:25:49.993601 SKIPPED: 3581\n",
      "36700: cooldown 5s... TIME:1:26:09.365125 SKIPPED: 3596\n",
      "36800: cooldown 5s... TIME:1:26:43.841464 SKIPPED: 3621\n",
      "36850: cooldown 5s... TIME:1:27:03.011010 SKIPPED: 3632\n",
      "36900: cooldown 5s... TIME:1:27:21.808290 SKIPPED: 3642\n",
      "37000: cooldown 5s... TIME:1:27:55.750152 SKIPPED: 3662\n",
      "37050: cooldown 5s... TIME:1:28:14.645549 SKIPPED: 3669\n",
      "37100: cooldown 5s... TIME:1:28:34.454977 SKIPPED: 3681\n",
      "37150: cooldown 5s... TIME:1:28:53.563760 SKIPPED: 3692\n",
      "37200: cooldown 5s... TIME:1:29:12.279103 SKIPPED: 3703\n",
      "37250: cooldown 5s... TIME:1:29:31.900972 SKIPPED: 3711\n",
      "37300: cooldown 5s... TIME:1:29:51.809185 SKIPPED: 3724\n",
      "37450: cooldown 5s... TIME:1:30:43.951565 SKIPPED: 3766\n",
      "37500: cooldown 5s... TIME:1:31:06.634934 SKIPPED: 3773\n",
      "37550: cooldown 5s... TIME:1:31:26.162179 SKIPPED: 3784\n",
      "37600: cooldown 5s... TIME:1:31:47.579300 SKIPPED: 3798\n",
      "37650: cooldown 5s... TIME:1:32:06.708402 SKIPPED: 3808\n",
      "37700: cooldown 5s... TIME:1:32:26.400938 SKIPPED: 3816\n",
      "37750: cooldown 5s... TIME:1:32:47.790007 SKIPPED: 3831\n",
      "37800: cooldown 5s... TIME:1:33:07.321303 SKIPPED: 3837\n",
      "37850: cooldown 5s... TIME:1:33:27.166022 SKIPPED: 3850\n",
      "37900: cooldown 5s... TIME:1:33:47.716865 SKIPPED: 3862\n",
      "37950: cooldown 5s... TIME:1:34:06.773494 SKIPPED: 3875\n",
      "38100: cooldown 5s... TIME:1:34:57.247748 SKIPPED: 3906\n",
      "38150: cooldown 5s... TIME:1:35:16.349755 SKIPPED: 3913\n",
      "38250: cooldown 5s... TIME:1:35:53.705774 SKIPPED: 3934\n",
      "38350: cooldown 5s... TIME:1:36:25.263795 SKIPPED: 3951\n",
      "38500: cooldown 5s... TIME:1:37:11.063666 SKIPPED: 3983\n",
      "38550: cooldown 5s... TIME:1:37:29.518340 SKIPPED: 3990\n",
      "38600: cooldown 5s... TIME:1:37:48.324293 SKIPPED: 4002\n",
      "38650: cooldown 5s... TIME:1:38:06.834307 SKIPPED: 4012\n",
      "38750: cooldown 5s... TIME:1:38:39.423906 SKIPPED: 4033\n",
      "38800: cooldown 5s... TIME:1:38:58.183824 SKIPPED: 4040\n",
      "38850: cooldown 5s... TIME:1:39:16.899694 SKIPPED: 4043\n",
      "38900: cooldown 5s... TIME:1:39:35.703280 SKIPPED: 4053\n",
      "list index out of range\n",
      "38950: cooldown 5s... TIME:1:40:04.675360 SKIPPED: 4057\n",
      "39050: cooldown 5s... TIME:1:40:37.282956 SKIPPED: 4070\n",
      "39100: cooldown 5s... TIME:1:40:57.193548 SKIPPED: 4080\n",
      "39150: cooldown 5s... TIME:1:41:16.293123 SKIPPED: 4087\n",
      "39200: cooldown 5s... TIME:1:41:35.644326 SKIPPED: 4092\n",
      "39250: cooldown 5s... TIME:1:41:55.064137 SKIPPED: 4096\n",
      "39300: cooldown 5s... TIME:1:42:14.276761 SKIPPED: 4111\n",
      "39350: cooldown 5s... TIME:1:42:33.264227 SKIPPED: 4117\n",
      "39400: cooldown 5s... TIME:1:42:52.158748 SKIPPED: 4122\n",
      "39450: cooldown 5s... TIME:1:43:10.713912 SKIPPED: 4128\n",
      "39500: cooldown 5s... TIME:1:43:29.805092 SKIPPED: 4137\n",
      "39550: cooldown 5s... TIME:1:43:48.695776 SKIPPED: 4141\n",
      "39600: cooldown 5s... TIME:1:44:07.308325 SKIPPED: 4145\n",
      "39750: cooldown 5s... TIME:1:44:54.992634 SKIPPED: 4167\n",
      "39800: cooldown 5s... TIME:1:45:13.452202 SKIPPED: 4171\n",
      "39900: cooldown 5s... TIME:1:45:46.280749 SKIPPED: 4185\n",
      "40050: cooldown 5s... TIME:1:46:32.508556 SKIPPED: 4208\n",
      "40100: cooldown 5s... TIME:1:46:52.048618 SKIPPED: 4209\n",
      "40150: cooldown 5s... TIME:1:47:10.220682 SKIPPED: 4210\n",
      "40200: cooldown 5s... TIME:1:47:29.607083 SKIPPED: 4213\n",
      "40250: cooldown 5s... TIME:1:47:48.683291 SKIPPED: 4218\n",
      "40300: cooldown 5s... TIME:1:48:07.136207 SKIPPED: 4223\n",
      "40350: cooldown 5s... TIME:1:48:26.153331 SKIPPED: 4229\n",
      "40450: cooldown 5s... TIME:1:48:58.002053 SKIPPED: 4243\n",
      "40500: cooldown 5s... TIME:1:49:17.491467 SKIPPED: 4251\n",
      "40550: cooldown 5s... TIME:1:49:36.021537 SKIPPED: 4260\n",
      "40600: cooldown 5s... TIME:1:49:54.392902 SKIPPED: 4269\n",
      "40650: cooldown 5s... TIME:1:50:12.752567 SKIPPED: 4279\n",
      "40700: cooldown 5s... TIME:1:50:31.357719 SKIPPED: 4285\n",
      "40750: cooldown 5s... TIME:1:50:49.984318 SKIPPED: 4290\n",
      "40800: cooldown 5s... TIME:1:51:08.115512 SKIPPED: 4300\n",
      "40900: cooldown 5s... TIME:1:51:40.946259 SKIPPED: 4315\n",
      "40950: cooldown 5s... TIME:1:51:59.487440 SKIPPED: 4330\n",
      "41000: cooldown 5s... TIME:1:52:18.682922 SKIPPED: 4341\n",
      "41050: cooldown 5s... TIME:1:52:37.600173 SKIPPED: 4348\n",
      "41100: cooldown 5s... TIME:1:52:56.502242 SKIPPED: 4352\n",
      "41200: cooldown 5s... TIME:1:53:28.255338 SKIPPED: 4370\n",
      "41250: cooldown 5s... TIME:1:53:47.235438 SKIPPED: 4379\n",
      "41300: cooldown 5s... TIME:1:54:05.677046 SKIPPED: 4387\n",
      "41350: cooldown 5s... TIME:1:54:24.175148 SKIPPED: 4396\n",
      "41400: cooldown 5s... TIME:1:54:42.368425 SKIPPED: 4402\n",
      "41550: cooldown 5s... TIME:1:55:27.297200 SKIPPED: 4425\n",
      "41600: cooldown 5s... TIME:1:55:45.524626 SKIPPED: 4434\n",
      "41650: cooldown 5s... TIME:1:56:03.783354 SKIPPED: 4440\n",
      "41700: cooldown 5s... TIME:1:56:21.783057 SKIPPED: 4453\n",
      "41750: cooldown 5s... TIME:1:56:40.197212 SKIPPED: 4462\n",
      "41800: cooldown 5s... TIME:1:56:58.877910 SKIPPED: 4468\n",
      "41850: cooldown 5s... TIME:1:57:17.145717 SKIPPED: 4474\n",
      "41900: cooldown 5s... TIME:1:57:35.606758 SKIPPED: 4481\n",
      "41950: cooldown 5s... TIME:1:57:53.910017 SKIPPED: 4491\n",
      "42050: cooldown 5s... TIME:1:58:25.863042 SKIPPED: 4507\n",
      "42100: cooldown 5s... TIME:1:58:44.238558 SKIPPED: 4511\n",
      "42150: cooldown 5s... TIME:1:59:02.374738 SKIPPED: 4517\n",
      "42250: cooldown 5s... TIME:1:59:33.524364 SKIPPED: 4534\n",
      "42350: cooldown 5s... TIME:2:00:05.624786 SKIPPED: 4547\n",
      "42400: cooldown 5s... TIME:2:00:24.309943 SKIPPED: 4555\n",
      "42450: cooldown 5s... TIME:2:00:42.912430 SKIPPED: 4561\n",
      "42500: cooldown 5s... TIME:2:01:01.678193 SKIPPED: 4573\n",
      "42600: cooldown 5s... TIME:2:01:34.032478 SKIPPED: 4593\n",
      "42650: cooldown 5s... TIME:2:01:52.620622 SKIPPED: 4603\n",
      "42700: cooldown 5s... TIME:2:02:11.494427 SKIPPED: 4609\n",
      "42750: cooldown 5s... TIME:2:02:30.407226 SKIPPED: 4620\n",
      "42850: cooldown 5s... TIME:2:03:03.635508 SKIPPED: 4635\n",
      "42900: cooldown 5s... TIME:2:03:23.070789 SKIPPED: 4645\n"
     ]
    }
   ],
   "source": [
    "start = datetime.now()\n",
    "\n",
    "skipped = 0\n",
    "\n",
    "for idx, title, artist in database.get_scraped_songs()[24400:]:\n",
    "    try:\n",
    "        database.songs_insert(get_song_id(SongInfo(title, artist)))\n",
    "        if idx % 50 == 0 and idx != 0:\n",
    "            print(f\"{idx}: cooldown 5s... TIME:{datetime.now()-start} SKIPPED: {skipped}\")\n",
    "            sleep(5)\n",
    "    except DBException as exception:\n",
    "        skipped += 1\n",
    "        continue\n",
    "    except Exception as gen_exception:\n",
    "        print(gen_exception)\n",
    "        sleep(10)"
   ]
  },
  {
   "cell_type": "markdown",
   "id": "a4611337-ee97-4ad5-98bd-049b2706e932",
   "metadata": {},
   "source": [
    "<div style=\"background: rgb(232, 232, 255); padding-left: 10px; border: 1px solid black; font-family: Monospace; border-radius: 15px; box-shadow: 2px 2px 0px 0px rgba(0,0,0,0.7);\">\n",
    "\n",
    "## Additional step, getting additional songs from playlists\n",
    "\n",
    "I wanted to test another API feature, getting more vintage songs (got around 2000)."
   ]
  },
  {
   "cell_type": "code",
   "execution_count": 10,
   "id": "cbda7e8e-39bb-4fb6-a940-a38c56769f82",
   "metadata": {},
   "outputs": [
    {
     "data": {
      "text/plain": [
       "['1950 hits', '1960 hits', '1970 hits', '1980 hits', '1990 hits', '2000 hits']"
      ]
     },
     "execution_count": 10,
     "metadata": {},
     "output_type": "execute_result"
    }
   ],
   "source": [
    "playlists_names = [f\"{year} hits\" for year in range(1950, 2010, 10)]\n",
    "playlists_names"
   ]
  },
  {
   "cell_type": "code",
   "execution_count": 8,
   "id": "34716648-83b1-463e-82f7-f82437bafbce",
   "metadata": {},
   "outputs": [],
   "source": [
    "def get_playlists_songs(query: str):\n",
    "    skipped = 0\n",
    "    total = 0\n",
    "    response = sp.search(q=query, type='playlist', limit=10)\n",
    "    for it in response[\"playlists\"][\"items\"]:\n",
    "        name = it[\"name\"].lower()\n",
    "        if \"polsk\" not in name and \"lat\" not in name and \"hity\" not in name and \"piosenk\" not in name:\n",
    "            try:\n",
    "                id = it[\"id\"]\n",
    "                playlist = sp.playlist(id)\n",
    "            except Exception as exception_playlist:\n",
    "                print(exception_playlist)\n",
    "                continue\n",
    "                \n",
    "            for it in playlist[\"tracks\"][\"items\"]:\n",
    "                total += 1\n",
    "                try:\n",
    "                    it = it[\"track\"]\n",
    "                    album_id = it[\"album\"][\"id\"]\n",
    "                    artist_id = it[\"artists\"][0][\"id\"]\n",
    "                    song_id = it[\"id\"]\n",
    "                    popularity = it[\"popularity\"]\n",
    "                    featured = int(len(it[\"artists\"]) > 1)\n",
    "                    title = it[\"name\"]\n",
    "                    release_date = it[\"album\"][\"release_date\"]\n",
    "    \n",
    "                    database.songs_insert(IDSongInfo(song_id, album_id, artist_id, title, release_date, featured, popularity))\n",
    "                except DBException as exception_db:\n",
    "                    skipped += 1\n",
    "                    continue\n",
    "                except Exception as exception_general:\n",
    "                    print(exception_general)\n",
    "                    continue\n",
    "    print(f\"Added {total-skipped} out of {total}\")"
   ]
  },
  {
   "cell_type": "code",
   "execution_count": 55,
   "id": "1ee65ba4-aeb0-466a-be8b-ff3259216fcc",
   "metadata": {},
   "outputs": [
    {
     "name": "stdout",
     "output_type": "stream",
     "text": [
      "Added 56 out of 640\n",
      "Added 177 out of 725\n",
      "Added 214 out of 533\n",
      "Added 69 out of 608\n",
      "Added 252 out of 700\n",
      "Added 209 out of 773\n"
     ]
    }
   ],
   "source": [
    "for query in playlists_names:\n",
    "    get_playlists_songs(query)"
   ]
  },
  {
   "cell_type": "code",
   "execution_count": 57,
   "id": "edec2ae7-1063-4b35-9505-47f2c467018a",
   "metadata": {},
   "outputs": [
    {
     "name": "stdout",
     "output_type": "stream",
     "text": [
      "Added 266 out of 641\n",
      "Added 322 out of 596\n",
      "Added 295 out of 660\n",
      "Added 469 out of 1000\n",
      "Added 79 out of 391\n",
      "Added 211 out of 545\n"
     ]
    }
   ],
   "source": [
    "for query in [\"old english songs\", \"old rap\", \"old hiphop\", \"old pop\", \"micheal jacson\", \"elvis presley\"]:\n",
    "    get_playlists_songs(query)"
   ]
  },
  {
   "cell_type": "markdown",
   "id": "21fabfcb-c433-4b44-ba4d-3a9ccbc5876c",
   "metadata": {},
   "source": [
    "<div style=\"background: rgb(232, 232, 255); padding-left: 10px; border: 1px solid black; font-family: Monospace; border-radius: 15px; box-shadow: 2px 2px 0px 0px rgba(0,0,0,0.7);\">\n",
    "\n",
    "## Populating artists table"
   ]
  },
  {
   "cell_type": "code",
   "execution_count": 9,
   "id": "95341429-4b62-44be-9301-d15e9b12e139",
   "metadata": {},
   "outputs": [],
   "source": [
    "artists = list(map(lambda a: a[0], database.get_distinct_artists_id()))\n",
    "albums = list(map(lambda a: a[0], database.get_distinct_albums_id()))\n",
    "songs = list(map(lambda a: a[0], database.get_distinct_songs_id()))"
   ]
  },
  {
   "cell_type": "code",
   "execution_count": 16,
   "id": "0e17045b-deb2-4e6e-82fb-7d809d477d54",
   "metadata": {},
   "outputs": [],
   "source": [
    "for idx in range(len(artists)//50+1):\n",
    "    batch = artists[idx*50:(idx+1)*50]\n",
    "    res = sp.artists(batch)\n",
    "    for artist in res[\"artists\"]:\n",
    "        try:\n",
    "            id = artist[\"id\"]\n",
    "            genres = \",\".join(artist[\"genres\"])\n",
    "            name = artist[\"name\"]\n",
    "            popularity = artist[\"popularity\"]\n",
    "            followers = artist[\"followers\"][\"total\"]\n",
    "    \n",
    "            database.artists_insert(ArtistInfo(id, name, genres, popularity, followers))\n",
    "        except DBException as exception_db:\n",
    "            print(exception_db)"
   ]
  },
  {
   "cell_type": "markdown",
   "id": "28bc6b7c-082f-4e71-a859-baaa65b66716",
   "metadata": {},
   "source": [
    "<div style=\"background: rgb(232, 232, 255); padding-left: 10px; border: 1px solid black; font-family: Monospace; border-radius: 15px; box-shadow: 2px 2px 0px 0px rgba(0,0,0,0.7);\">\n",
    "\n",
    "## Populating Albums info\n",
    "\n",
    "Here I also saved the info about **every track in every distinct album**. It generated the majority of the rows! ~300k"
   ]
  },
  {
   "cell_type": "code",
   "execution_count": 40,
   "id": "7ebf3d55-954e-408b-8e50-97fb9211fc56",
   "metadata": {},
   "outputs": [
    {
     "name": "stdout",
     "output_type": "stream",
     "text": [
      "('58RXhgjtKkp72kiSl1Eery', 'Basi musicale nello stilo dei vari artisti (instrumental karaoke tracks) Vol. 114', 'UNIQUE constraint failed: albums.album_spotify_id')\n"
     ]
    }
   ],
   "source": [
    "for idx in range(len(albums)//20+1):\n",
    "    batch = albums[idx*20:(idx+1)*20]\n",
    "    res = sp.albums(batch)\n",
    "    for album in res[\"albums\"]:\n",
    "        try:\n",
    "            id = album[\"id\"]\n",
    "            name = album[\"name\"]\n",
    "            release_date = album[\"release_date\"]\n",
    "            total_tracks = album[\"tracks\"][\"total\"]\n",
    "            genres = \",\".join(album[\"genres\"])\n",
    "            popularity = album[\"popularity\"]\n",
    "    \n",
    "            database.albums_insert(AlbumInfo(id, name, release_date, total_tracks, genres, popularity))\n",
    "        except DBException as exception_db:\n",
    "            print(exception_db)\n",
    "\n",
    "        for song in album[\"tracks\"][\"items\"]:\n",
    "            try:\n",
    "                song_id = song[\"id\"]\n",
    "                album_id = album[\"id\"]\n",
    "                artist_id = song[\"artists\"][0][\"id\"]\n",
    "                title = song[\"name\"]\n",
    "                release_date = album[\"release_date\"]\n",
    "                featured = int(len(song[\"artists\"]) > 1)\n",
    "                popularity = -1\n",
    "\n",
    "                database.songs_insert(IDSongInfo(song_id, album_id, artist_id, title, release_date, featured, popularity))\n",
    "                \n",
    "                \n",
    "            except DBException as exception_db_song:\n",
    "                continue"
   ]
  },
  {
   "cell_type": "markdown",
   "id": "273a70fd-6588-4fd7-ad28-b1480bd4536b",
   "metadata": {},
   "source": [
    "<div style=\"background: rgb(232, 232, 255); padding-left: 10px; border: 1px solid black; font-family: Monospace; border-radius: 15px; box-shadow: 2px 2px 0px 0px rgba(0,0,0,0.7);\">\n",
    "\n",
    "### Unlucky, there was a little issue\n",
    "\n",
    "By collecting the data about songs from albums, there was no given data about the popularity, So I though that it is not a real problem, knowing that there is a **get_track** method in Spotify API, where I can get the info about the track (with popularity), and also I can provide **50 songs** at once!"
   ]
  },
  {
   "cell_type": "code",
   "execution_count": 17,
   "id": "702df997-05a3-4884-85c6-a91ec8472f65",
   "metadata": {},
   "outputs": [],
   "source": [
    "query = \"\"\"\n",
    "        SELECT song_spotify_id\n",
    "        FROM songs\n",
    "        WHERE popularity = -1;\n",
    "        \"\"\""
   ]
  },
  {
   "cell_type": "code",
   "execution_count": 18,
   "id": "4cab62ba-7a4d-4c4a-83b1-be4f4aa6d988",
   "metadata": {},
   "outputs": [
    {
     "name": "stdout",
     "output_type": "stream",
     "text": [
      "No: 100\n",
      "No: 200\n",
      "No: 300\n",
      "No: 400\n",
      "No: 500\n",
      "No: 600\n",
      "No: 700\n",
      "No: 800\n",
      "No: 900\n",
      "No: 1000\n",
      "No: 1100\n",
      "No: 1200\n",
      "No: 1300\n",
      "No: 1400\n",
      "No: 1500\n",
      "No: 1600\n",
      "No: 1700\n",
      "No: 1800\n",
      "0:31:26.027570\n"
     ]
    }
   ],
   "source": [
    "incomplete_songs = list(map(lambda s: s[0], database.get_query_database(query)))\n",
    "start = datetime.now()\n",
    "for idx in range(len(incomplete_songs)//50+1):\n",
    "    sleep(0.5)\n",
    "    if idx % 100 == 0 and idx != 0:\n",
    "        print(\"No:\", idx)\n",
    "        sleep(5)\n",
    "    try:\n",
    "        batch = incomplete_songs[50*idx:50*(idx+1)]\n",
    "        songs = sp.tracks(batch)\n",
    "    except Exception as exception:\n",
    "        print(exception)\n",
    "        sleep(10)\n",
    "        continue\n",
    "\n",
    "    for song in songs[\"tracks\"]:\n",
    "        try:\n",
    "            id = song[\"id\"]\n",
    "            popularity = song[\"popularity\"]\n",
    "            database.update_song_popularity(id, popularity)\n",
    "        except DBException as exception_db:\n",
    "            print(exception_db)\n",
    "            continue\n",
    "print(datetime.now()-start)"
   ]
  },
  {
   "cell_type": "markdown",
   "id": "e47753ed-9561-41aa-9525-978dda4c3c91",
   "metadata": {},
   "source": [
    "<div style=\"background: rgb(232, 232, 255); padding-left: 10px; border: 1px solid black; font-family: Monospace; border-radius: 15px; box-shadow: 2px 2px 0px 0px rgba(0,0,0,0.7);\">\n",
    "\n",
    "## Getting the song technical features\n",
    "Even though, the maximum number of songs I can request is 100 at once, I got banned for some time for too many requests. Had to continue the next day."
   ]
  },
  {
   "cell_type": "code",
   "execution_count": 5,
   "id": "656b71ad-e66d-4e4a-89b5-4ccfb6b4aaa9",
   "metadata": {},
   "outputs": [],
   "source": [
    "query_2 = \"\"\"SELECT song_spotify_id\n",
    "             FROM songs\n",
    "             WHERE song_spotify_id NOT IN (\n",
    "                 SELECT song_spotify_id\n",
    "                 FROM songs_features);\"\"\""
   ]
  },
  {
   "cell_type": "code",
   "execution_count": 6,
   "id": "a83b7dec-2b22-48f9-9b6a-6c11ddf5da97",
   "metadata": {},
   "outputs": [
    {
     "name": "stderr",
     "output_type": "stream",
     "text": [
      "Max Retries reached\n"
     ]
    },
    {
     "name": "stdout",
     "output_type": "stream",
     "text": [
      "http status: 429, code:-1 - /v1/audio-features/?ids=3VrsEoh3M6BcH5QLu4Zi4q,3W02G5JB1kQc13NVACA94Y,3ZYvax9W5YigQ9bwS9byeX,3ZnZjahZlRbcH4tqycNdfC,3eZk3GxGcwVDPa1xIK4Fnp,3gUFSe8zIIClWgPj7CNYFi,3hsY5MoqiOpIn4bcRtizMZ,3jWyLzK2XnBYg0M02wPjbn,3neKhXDhXf17BiKa1noeUX,3oIRRjzbZhl07MqcEG7nhH,3pmP3hLi7HYOZYCuxZm1aE,3rVXcHkfWFhHx9Str4J1Wr,3t0l1FEYQQpjmCJtsPIvN3,3t9JBaGfPOEQbNIexSOgDf,3tpof5OFTKWH4U0rPFTEYQ,3uh7YcFzAWHGg7spVzPfqP,3ujliGKxByL8Va0phmVSEv,3w1F13Rv4JO51g5ksX0JzL,3w39hZDGqukIsEajUX5FH9,3xWfLEFVduwUuVOYwl29FD,3yS2615iCahNh10KyfNQA5,3zRY4aZB5RfGlJXafJnfY0,439gEXy3QO4CwMA2Fd8yDS,43BebLBBuSCg4qauLd1eqc,43LajfnvG9QTQ5VLqNUdHs,44P02BdN2fK0IMwYDUVIT2,46MCRTlHg2RK4c9eOmrZaU,46taYp5BODIX9i43VFPGDV,4C9pMTWyEBsYJ6NAh0uIWE,4Gyevf6hfKBzh69K79twjP,4HsvrYvpcFefRvQSBkTXyJ,4MyiAZ0G0LhwfTfEJxrN8C,4PM5CltOCcwkFJBfAyAhhJ,4QTUKOwsEsZjLe2YV65Oww,4SFbevneLmLf9upVuzVK2t,4SJTFnmmfxotIdw2psMeDp,4TBawOJBjdMe9ZetXnNP0R,4TUPsBH8KWrV7mXreb4mlk,4TZbJI4hnIysvYCThJyzxI,4YQWW24PWJ1Z0BXudSj74U,4YqCQOLbUGSWFGUJntT4Za,4ZUngICJ4zrMitnI56bSuU,4fBEaB10o2LaYndqsHxmfc,4hFp1rplSduHBc2xRtEPHs,4hbpxoMCp62bd1sdy7XehS,4mZlQk9Ha7WwJZUngARQeY,4q3EWeJ8C8wnaBx5ASx7R1,4rQLR7Z5iLzEOTiufXvFBM,4rQiVDhgeYvggWzNE9H8qP,4sB00FJDWKlr9ywFguc1FY,4zEWFiaChRJBI6m0LjQoeG,51YTYfZ3KvaqaaO2Y0ygfg,52O3MLLIHlQ4FDItAOsEDt,53ngvtha832CNMNiHY6llE,54zPa7f4nflMwBk9Iwl7br,55LGjZQ666HAAmwTe1rHu0,55r2KbynzNNC2xLRLCKvZc,5ALmBSQxAsHNjOAOqxmxI6,5Aa7RD4Pdp14vII8SVsrSS,5B1AuTvfXRlD2chmxIbCl2,5ByyR0yMyYLM0FG3amRG28,5DA5G9U7ZwBp2kZtKzpiaA,5DzxKdLeCf34dCCATroMz3,5FA9XC36IlV9bnhMqqzNc9,5FAAnScP4CJfEzecfnlXJI,5FAC0o51hKBJZHTL423thO,5FACElUQ6euTQx5VkWaJk9,5FAHHNzy5vDIXoA42A6fhx,5FAWodjHblif7DksmayBmq,5FAl0lIi2CUgrjMab1is7d,5FAopPQlENd6rZNNdSl8Nd,5FAvUzCQzEMmx5WA1C3DLo,5FAzAZ8E2611bVaxvNHhVN,5FB0Vxo53wb9HTkK51AicO,5FB5hFjIuwjkPqsU8Mc9AR,5FBAnvsSuOwQmxk6vRp1N4,5FBNbJHO4LeRzAUXKuOfH6,5FBOSDaBez5mCxeP6Yfj7i,5FBU818hvRs84RqDJKt0QA,5FBaWYaoA8j260ctveOa4a,5FBdc4v8QmpZ8eh170V2X4,5FBihhHcMTux7eAcKZNuQ4,5FBlH5K04d7ZjZQ8oXOyIN,5FBvGDfcEshfwMMTwR1kgm,5FBvSSi5wDo6jZV1mG3v4E,5FBxTvwsLYzBaC8PDQNXWl,5FBy3r3BVANmwXJEDyzkvF,5FC1CK9ghEPAc3zqBm5jMh,5FC7GUM0mli2O5f4OpWtUi,5FCBE7NTkbNykn2X7EzgZj,5FCFHWLwb6ANrxREbt9m1G,5FCM1Xr1C9yTKzc4FInetw,5FCk0gt3OuYWA7QNfdZiwm,5FCm7llRnvLPZMF34YQBCH,5FCsOkY2PjWvPjkGCthLYN,5FCtbCsDVx6C1q45lCd7ot,5FD0ciPSjuDqCOULQR0gNi,5FD5M13jPV02N6iL4yiA8t,5FDAbQDMHlVl223ytfd4qZ,5FDIbuZB5Hu9yAJW8DFPxD:\n",
      " Max Retries, reason: too many 429 error responses\n"
     ]
    },
    {
     "ename": "KeyboardInterrupt",
     "evalue": "",
     "output_type": "error",
     "traceback": [
      "\u001b[1;31m---------------------------------------------------------------------------\u001b[0m",
      "\u001b[1;31mResponseError\u001b[0m                             Traceback (most recent call last)",
      "\u001b[1;31mResponseError\u001b[0m: too many 429 error responses",
      "\nThe above exception was the direct cause of the following exception:\n",
      "\u001b[1;31mMaxRetryError\u001b[0m                             Traceback (most recent call last)",
      "File \u001b[1;32mF:\\Anaconda\\Lib\\site-packages\\requests\\adapters.py:486\u001b[0m, in \u001b[0;36mHTTPAdapter.send\u001b[1;34m(self, request, stream, timeout, verify, cert, proxies)\u001b[0m\n\u001b[0;32m    485\u001b[0m \u001b[38;5;28;01mtry\u001b[39;00m:\n\u001b[1;32m--> 486\u001b[0m     resp \u001b[38;5;241m=\u001b[39m conn\u001b[38;5;241m.\u001b[39murlopen(\n\u001b[0;32m    487\u001b[0m         method\u001b[38;5;241m=\u001b[39mrequest\u001b[38;5;241m.\u001b[39mmethod,\n\u001b[0;32m    488\u001b[0m         url\u001b[38;5;241m=\u001b[39murl,\n\u001b[0;32m    489\u001b[0m         body\u001b[38;5;241m=\u001b[39mrequest\u001b[38;5;241m.\u001b[39mbody,\n\u001b[0;32m    490\u001b[0m         headers\u001b[38;5;241m=\u001b[39mrequest\u001b[38;5;241m.\u001b[39mheaders,\n\u001b[0;32m    491\u001b[0m         redirect\u001b[38;5;241m=\u001b[39m\u001b[38;5;28;01mFalse\u001b[39;00m,\n\u001b[0;32m    492\u001b[0m         assert_same_host\u001b[38;5;241m=\u001b[39m\u001b[38;5;28;01mFalse\u001b[39;00m,\n\u001b[0;32m    493\u001b[0m         preload_content\u001b[38;5;241m=\u001b[39m\u001b[38;5;28;01mFalse\u001b[39;00m,\n\u001b[0;32m    494\u001b[0m         decode_content\u001b[38;5;241m=\u001b[39m\u001b[38;5;28;01mFalse\u001b[39;00m,\n\u001b[0;32m    495\u001b[0m         retries\u001b[38;5;241m=\u001b[39m\u001b[38;5;28mself\u001b[39m\u001b[38;5;241m.\u001b[39mmax_retries,\n\u001b[0;32m    496\u001b[0m         timeout\u001b[38;5;241m=\u001b[39mtimeout,\n\u001b[0;32m    497\u001b[0m         chunked\u001b[38;5;241m=\u001b[39mchunked,\n\u001b[0;32m    498\u001b[0m     )\n\u001b[0;32m    500\u001b[0m \u001b[38;5;28;01mexcept\u001b[39;00m (ProtocolError, \u001b[38;5;167;01mOSError\u001b[39;00m) \u001b[38;5;28;01mas\u001b[39;00m err:\n",
      "File \u001b[1;32mF:\\Anaconda\\Lib\\site-packages\\urllib3\\connectionpool.py:946\u001b[0m, in \u001b[0;36mHTTPConnectionPool.urlopen\u001b[1;34m(self, method, url, body, headers, retries, redirect, assert_same_host, timeout, pool_timeout, release_conn, chunked, body_pos, preload_content, decode_content, **response_kw)\u001b[0m\n\u001b[0;32m    945\u001b[0m     log\u001b[38;5;241m.\u001b[39mdebug(\u001b[38;5;124m\"\u001b[39m\u001b[38;5;124mRetry: \u001b[39m\u001b[38;5;132;01m%s\u001b[39;00m\u001b[38;5;124m\"\u001b[39m, url)\n\u001b[1;32m--> 946\u001b[0m     \u001b[38;5;28;01mreturn\u001b[39;00m \u001b[38;5;28mself\u001b[39m\u001b[38;5;241m.\u001b[39murlopen(\n\u001b[0;32m    947\u001b[0m         method,\n\u001b[0;32m    948\u001b[0m         url,\n\u001b[0;32m    949\u001b[0m         body,\n\u001b[0;32m    950\u001b[0m         headers,\n\u001b[0;32m    951\u001b[0m         retries\u001b[38;5;241m=\u001b[39mretries,\n\u001b[0;32m    952\u001b[0m         redirect\u001b[38;5;241m=\u001b[39mredirect,\n\u001b[0;32m    953\u001b[0m         assert_same_host\u001b[38;5;241m=\u001b[39massert_same_host,\n\u001b[0;32m    954\u001b[0m         timeout\u001b[38;5;241m=\u001b[39mtimeout,\n\u001b[0;32m    955\u001b[0m         pool_timeout\u001b[38;5;241m=\u001b[39mpool_timeout,\n\u001b[0;32m    956\u001b[0m         release_conn\u001b[38;5;241m=\u001b[39mrelease_conn,\n\u001b[0;32m    957\u001b[0m         chunked\u001b[38;5;241m=\u001b[39mchunked,\n\u001b[0;32m    958\u001b[0m         body_pos\u001b[38;5;241m=\u001b[39mbody_pos,\n\u001b[0;32m    959\u001b[0m         preload_content\u001b[38;5;241m=\u001b[39mpreload_content,\n\u001b[0;32m    960\u001b[0m         decode_content\u001b[38;5;241m=\u001b[39mdecode_content,\n\u001b[0;32m    961\u001b[0m         \u001b[38;5;241m*\u001b[39m\u001b[38;5;241m*\u001b[39mresponse_kw,\n\u001b[0;32m    962\u001b[0m     )\n\u001b[0;32m    964\u001b[0m \u001b[38;5;28;01mreturn\u001b[39;00m response\n",
      "File \u001b[1;32mF:\\Anaconda\\Lib\\site-packages\\urllib3\\connectionpool.py:946\u001b[0m, in \u001b[0;36mHTTPConnectionPool.urlopen\u001b[1;34m(self, method, url, body, headers, retries, redirect, assert_same_host, timeout, pool_timeout, release_conn, chunked, body_pos, preload_content, decode_content, **response_kw)\u001b[0m\n\u001b[0;32m    945\u001b[0m     log\u001b[38;5;241m.\u001b[39mdebug(\u001b[38;5;124m\"\u001b[39m\u001b[38;5;124mRetry: \u001b[39m\u001b[38;5;132;01m%s\u001b[39;00m\u001b[38;5;124m\"\u001b[39m, url)\n\u001b[1;32m--> 946\u001b[0m     \u001b[38;5;28;01mreturn\u001b[39;00m \u001b[38;5;28mself\u001b[39m\u001b[38;5;241m.\u001b[39murlopen(\n\u001b[0;32m    947\u001b[0m         method,\n\u001b[0;32m    948\u001b[0m         url,\n\u001b[0;32m    949\u001b[0m         body,\n\u001b[0;32m    950\u001b[0m         headers,\n\u001b[0;32m    951\u001b[0m         retries\u001b[38;5;241m=\u001b[39mretries,\n\u001b[0;32m    952\u001b[0m         redirect\u001b[38;5;241m=\u001b[39mredirect,\n\u001b[0;32m    953\u001b[0m         assert_same_host\u001b[38;5;241m=\u001b[39massert_same_host,\n\u001b[0;32m    954\u001b[0m         timeout\u001b[38;5;241m=\u001b[39mtimeout,\n\u001b[0;32m    955\u001b[0m         pool_timeout\u001b[38;5;241m=\u001b[39mpool_timeout,\n\u001b[0;32m    956\u001b[0m         release_conn\u001b[38;5;241m=\u001b[39mrelease_conn,\n\u001b[0;32m    957\u001b[0m         chunked\u001b[38;5;241m=\u001b[39mchunked,\n\u001b[0;32m    958\u001b[0m         body_pos\u001b[38;5;241m=\u001b[39mbody_pos,\n\u001b[0;32m    959\u001b[0m         preload_content\u001b[38;5;241m=\u001b[39mpreload_content,\n\u001b[0;32m    960\u001b[0m         decode_content\u001b[38;5;241m=\u001b[39mdecode_content,\n\u001b[0;32m    961\u001b[0m         \u001b[38;5;241m*\u001b[39m\u001b[38;5;241m*\u001b[39mresponse_kw,\n\u001b[0;32m    962\u001b[0m     )\n\u001b[0;32m    964\u001b[0m \u001b[38;5;28;01mreturn\u001b[39;00m response\n",
      "File \u001b[1;32mF:\\Anaconda\\Lib\\site-packages\\urllib3\\connectionpool.py:946\u001b[0m, in \u001b[0;36mHTTPConnectionPool.urlopen\u001b[1;34m(self, method, url, body, headers, retries, redirect, assert_same_host, timeout, pool_timeout, release_conn, chunked, body_pos, preload_content, decode_content, **response_kw)\u001b[0m\n\u001b[0;32m    945\u001b[0m     log\u001b[38;5;241m.\u001b[39mdebug(\u001b[38;5;124m\"\u001b[39m\u001b[38;5;124mRetry: \u001b[39m\u001b[38;5;132;01m%s\u001b[39;00m\u001b[38;5;124m\"\u001b[39m, url)\n\u001b[1;32m--> 946\u001b[0m     \u001b[38;5;28;01mreturn\u001b[39;00m \u001b[38;5;28mself\u001b[39m\u001b[38;5;241m.\u001b[39murlopen(\n\u001b[0;32m    947\u001b[0m         method,\n\u001b[0;32m    948\u001b[0m         url,\n\u001b[0;32m    949\u001b[0m         body,\n\u001b[0;32m    950\u001b[0m         headers,\n\u001b[0;32m    951\u001b[0m         retries\u001b[38;5;241m=\u001b[39mretries,\n\u001b[0;32m    952\u001b[0m         redirect\u001b[38;5;241m=\u001b[39mredirect,\n\u001b[0;32m    953\u001b[0m         assert_same_host\u001b[38;5;241m=\u001b[39massert_same_host,\n\u001b[0;32m    954\u001b[0m         timeout\u001b[38;5;241m=\u001b[39mtimeout,\n\u001b[0;32m    955\u001b[0m         pool_timeout\u001b[38;5;241m=\u001b[39mpool_timeout,\n\u001b[0;32m    956\u001b[0m         release_conn\u001b[38;5;241m=\u001b[39mrelease_conn,\n\u001b[0;32m    957\u001b[0m         chunked\u001b[38;5;241m=\u001b[39mchunked,\n\u001b[0;32m    958\u001b[0m         body_pos\u001b[38;5;241m=\u001b[39mbody_pos,\n\u001b[0;32m    959\u001b[0m         preload_content\u001b[38;5;241m=\u001b[39mpreload_content,\n\u001b[0;32m    960\u001b[0m         decode_content\u001b[38;5;241m=\u001b[39mdecode_content,\n\u001b[0;32m    961\u001b[0m         \u001b[38;5;241m*\u001b[39m\u001b[38;5;241m*\u001b[39mresponse_kw,\n\u001b[0;32m    962\u001b[0m     )\n\u001b[0;32m    964\u001b[0m \u001b[38;5;28;01mreturn\u001b[39;00m response\n",
      "File \u001b[1;32mF:\\Anaconda\\Lib\\site-packages\\urllib3\\connectionpool.py:936\u001b[0m, in \u001b[0;36mHTTPConnectionPool.urlopen\u001b[1;34m(self, method, url, body, headers, retries, redirect, assert_same_host, timeout, pool_timeout, release_conn, chunked, body_pos, preload_content, decode_content, **response_kw)\u001b[0m\n\u001b[0;32m    935\u001b[0m \u001b[38;5;28;01mtry\u001b[39;00m:\n\u001b[1;32m--> 936\u001b[0m     retries \u001b[38;5;241m=\u001b[39m retries\u001b[38;5;241m.\u001b[39mincrement(method, url, response\u001b[38;5;241m=\u001b[39mresponse, _pool\u001b[38;5;241m=\u001b[39m\u001b[38;5;28mself\u001b[39m)\n\u001b[0;32m    937\u001b[0m \u001b[38;5;28;01mexcept\u001b[39;00m MaxRetryError:\n",
      "File \u001b[1;32mF:\\Anaconda\\Lib\\site-packages\\urllib3\\util\\retry.py:515\u001b[0m, in \u001b[0;36mRetry.increment\u001b[1;34m(self, method, url, response, error, _pool, _stacktrace)\u001b[0m\n\u001b[0;32m    514\u001b[0m     reason \u001b[38;5;241m=\u001b[39m error \u001b[38;5;129;01mor\u001b[39;00m ResponseError(cause)\n\u001b[1;32m--> 515\u001b[0m     \u001b[38;5;28;01mraise\u001b[39;00m MaxRetryError(_pool, url, reason) \u001b[38;5;28;01mfrom\u001b[39;00m \u001b[38;5;21;01mreason\u001b[39;00m  \u001b[38;5;66;03m# type: ignore[arg-type]\u001b[39;00m\n\u001b[0;32m    517\u001b[0m log\u001b[38;5;241m.\u001b[39mdebug(\u001b[38;5;124m\"\u001b[39m\u001b[38;5;124mIncremented Retry for (url=\u001b[39m\u001b[38;5;124m'\u001b[39m\u001b[38;5;132;01m%s\u001b[39;00m\u001b[38;5;124m'\u001b[39m\u001b[38;5;124m): \u001b[39m\u001b[38;5;132;01m%r\u001b[39;00m\u001b[38;5;124m\"\u001b[39m, url, new_retry)\n",
      "\u001b[1;31mMaxRetryError\u001b[0m: HTTPSConnectionPool(host='api.spotify.com', port=443): Max retries exceeded with url: /v1/audio-features/?ids=3VrsEoh3M6BcH5QLu4Zi4q,3W02G5JB1kQc13NVACA94Y,3ZYvax9W5YigQ9bwS9byeX,3ZnZjahZlRbcH4tqycNdfC,3eZk3GxGcwVDPa1xIK4Fnp,3gUFSe8zIIClWgPj7CNYFi,3hsY5MoqiOpIn4bcRtizMZ,3jWyLzK2XnBYg0M02wPjbn,3neKhXDhXf17BiKa1noeUX,3oIRRjzbZhl07MqcEG7nhH,3pmP3hLi7HYOZYCuxZm1aE,3rVXcHkfWFhHx9Str4J1Wr,3t0l1FEYQQpjmCJtsPIvN3,3t9JBaGfPOEQbNIexSOgDf,3tpof5OFTKWH4U0rPFTEYQ,3uh7YcFzAWHGg7spVzPfqP,3ujliGKxByL8Va0phmVSEv,3w1F13Rv4JO51g5ksX0JzL,3w39hZDGqukIsEajUX5FH9,3xWfLEFVduwUuVOYwl29FD,3yS2615iCahNh10KyfNQA5,3zRY4aZB5RfGlJXafJnfY0,439gEXy3QO4CwMA2Fd8yDS,43BebLBBuSCg4qauLd1eqc,43LajfnvG9QTQ5VLqNUdHs,44P02BdN2fK0IMwYDUVIT2,46MCRTlHg2RK4c9eOmrZaU,46taYp5BODIX9i43VFPGDV,4C9pMTWyEBsYJ6NAh0uIWE,4Gyevf6hfKBzh69K79twjP,4HsvrYvpcFefRvQSBkTXyJ,4MyiAZ0G0LhwfTfEJxrN8C,4PM5CltOCcwkFJBfAyAhhJ,4QTUKOwsEsZjLe2YV65Oww,4SFbevneLmLf9upVuzVK2t,4SJTFnmmfxotIdw2psMeDp,4TBawOJBjdMe9ZetXnNP0R,4TUPsBH8KWrV7mXreb4mlk,4TZbJI4hnIysvYCThJyzxI,4YQWW24PWJ1Z0BXudSj74U,4YqCQOLbUGSWFGUJntT4Za,4ZUngICJ4zrMitnI56bSuU,4fBEaB10o2LaYndqsHxmfc,4hFp1rplSduHBc2xRtEPHs,4hbpxoMCp62bd1sdy7XehS,4mZlQk9Ha7WwJZUngARQeY,4q3EWeJ8C8wnaBx5ASx7R1,4rQLR7Z5iLzEOTiufXvFBM,4rQiVDhgeYvggWzNE9H8qP,4sB00FJDWKlr9ywFguc1FY,4zEWFiaChRJBI6m0LjQoeG,51YTYfZ3KvaqaaO2Y0ygfg,52O3MLLIHlQ4FDItAOsEDt,53ngvtha832CNMNiHY6llE,54zPa7f4nflMwBk9Iwl7br,55LGjZQ666HAAmwTe1rHu0,55r2KbynzNNC2xLRLCKvZc,5ALmBSQxAsHNjOAOqxmxI6,5Aa7RD4Pdp14vII8SVsrSS,5B1AuTvfXRlD2chmxIbCl2,5ByyR0yMyYLM0FG3amRG28,5DA5G9U7ZwBp2kZtKzpiaA,5DzxKdLeCf34dCCATroMz3,5FA9XC36IlV9bnhMqqzNc9,5FAAnScP4CJfEzecfnlXJI,5FAC0o51hKBJZHTL423thO,5FACElUQ6euTQx5VkWaJk9,5FAHHNzy5vDIXoA42A6fhx,5FAWodjHblif7DksmayBmq,5FAl0lIi2CUgrjMab1is7d,5FAopPQlENd6rZNNdSl8Nd,5FAvUzCQzEMmx5WA1C3DLo,5FAzAZ8E2611bVaxvNHhVN,5FB0Vxo53wb9HTkK51AicO,5FB5hFjIuwjkPqsU8Mc9AR,5FBAnvsSuOwQmxk6vRp1N4,5FBNbJHO4LeRzAUXKuOfH6,5FBOSDaBez5mCxeP6Yfj7i,5FBU818hvRs84RqDJKt0QA,5FBaWYaoA8j260ctveOa4a,5FBdc4v8QmpZ8eh170V2X4,5FBihhHcMTux7eAcKZNuQ4,5FBlH5K04d7ZjZQ8oXOyIN,5FBvGDfcEshfwMMTwR1kgm,5FBvSSi5wDo6jZV1mG3v4E,5FBxTvwsLYzBaC8PDQNXWl,5FBy3r3BVANmwXJEDyzkvF,5FC1CK9ghEPAc3zqBm5jMh,5FC7GUM0mli2O5f4OpWtUi,5FCBE7NTkbNykn2X7EzgZj,5FCFHWLwb6ANrxREbt9m1G,5FCM1Xr1C9yTKzc4FInetw,5FCk0gt3OuYWA7QNfdZiwm,5FCm7llRnvLPZMF34YQBCH,5FCsOkY2PjWvPjkGCthLYN,5FCtbCsDVx6C1q45lCd7ot,5FD0ciPSjuDqCOULQR0gNi,5FD5M13jPV02N6iL4yiA8t,5FDAbQDMHlVl223ytfd4qZ,5FDIbuZB5Hu9yAJW8DFPxD (Caused by ResponseError('too many 429 error responses'))",
      "\nDuring handling of the above exception, another exception occurred:\n",
      "\u001b[1;31mRetryError\u001b[0m                                Traceback (most recent call last)",
      "File \u001b[1;32mF:\\Anaconda\\Lib\\site-packages\\spotipy\\client.py:270\u001b[0m, in \u001b[0;36mSpotify._internal_call\u001b[1;34m(self, method, url, payload, params)\u001b[0m\n\u001b[0;32m    269\u001b[0m \u001b[38;5;28;01mtry\u001b[39;00m:\n\u001b[1;32m--> 270\u001b[0m     response \u001b[38;5;241m=\u001b[39m \u001b[38;5;28mself\u001b[39m\u001b[38;5;241m.\u001b[39m_session\u001b[38;5;241m.\u001b[39mrequest(\n\u001b[0;32m    271\u001b[0m         method, url, headers\u001b[38;5;241m=\u001b[39mheaders, proxies\u001b[38;5;241m=\u001b[39m\u001b[38;5;28mself\u001b[39m\u001b[38;5;241m.\u001b[39mproxies,\n\u001b[0;32m    272\u001b[0m         timeout\u001b[38;5;241m=\u001b[39m\u001b[38;5;28mself\u001b[39m\u001b[38;5;241m.\u001b[39mrequests_timeout, \u001b[38;5;241m*\u001b[39m\u001b[38;5;241m*\u001b[39margs\n\u001b[0;32m    273\u001b[0m     )\n\u001b[0;32m    275\u001b[0m     response\u001b[38;5;241m.\u001b[39mraise_for_status()\n",
      "File \u001b[1;32mF:\\Anaconda\\Lib\\site-packages\\requests\\sessions.py:589\u001b[0m, in \u001b[0;36mSession.request\u001b[1;34m(self, method, url, params, data, headers, cookies, files, auth, timeout, allow_redirects, proxies, hooks, stream, verify, cert, json)\u001b[0m\n\u001b[0;32m    588\u001b[0m send_kwargs\u001b[38;5;241m.\u001b[39mupdate(settings)\n\u001b[1;32m--> 589\u001b[0m resp \u001b[38;5;241m=\u001b[39m \u001b[38;5;28mself\u001b[39m\u001b[38;5;241m.\u001b[39msend(prep, \u001b[38;5;241m*\u001b[39m\u001b[38;5;241m*\u001b[39msend_kwargs)\n\u001b[0;32m    591\u001b[0m \u001b[38;5;28;01mreturn\u001b[39;00m resp\n",
      "File \u001b[1;32mF:\\Anaconda\\Lib\\site-packages\\requests\\sessions.py:703\u001b[0m, in \u001b[0;36mSession.send\u001b[1;34m(self, request, **kwargs)\u001b[0m\n\u001b[0;32m    702\u001b[0m \u001b[38;5;66;03m# Send the request\u001b[39;00m\n\u001b[1;32m--> 703\u001b[0m r \u001b[38;5;241m=\u001b[39m adapter\u001b[38;5;241m.\u001b[39msend(request, \u001b[38;5;241m*\u001b[39m\u001b[38;5;241m*\u001b[39mkwargs)\n\u001b[0;32m    705\u001b[0m \u001b[38;5;66;03m# Total elapsed time of the request (approximately)\u001b[39;00m\n",
      "File \u001b[1;32mF:\\Anaconda\\Lib\\site-packages\\requests\\adapters.py:510\u001b[0m, in \u001b[0;36mHTTPAdapter.send\u001b[1;34m(self, request, stream, timeout, verify, cert, proxies)\u001b[0m\n\u001b[0;32m    509\u001b[0m \u001b[38;5;28;01mif\u001b[39;00m \u001b[38;5;28misinstance\u001b[39m(e\u001b[38;5;241m.\u001b[39mreason, ResponseError):\n\u001b[1;32m--> 510\u001b[0m     \u001b[38;5;28;01mraise\u001b[39;00m RetryError(e, request\u001b[38;5;241m=\u001b[39mrequest)\n\u001b[0;32m    512\u001b[0m \u001b[38;5;28;01mif\u001b[39;00m \u001b[38;5;28misinstance\u001b[39m(e\u001b[38;5;241m.\u001b[39mreason, _ProxyError):\n",
      "\u001b[1;31mRetryError\u001b[0m: HTTPSConnectionPool(host='api.spotify.com', port=443): Max retries exceeded with url: /v1/audio-features/?ids=3VrsEoh3M6BcH5QLu4Zi4q,3W02G5JB1kQc13NVACA94Y,3ZYvax9W5YigQ9bwS9byeX,3ZnZjahZlRbcH4tqycNdfC,3eZk3GxGcwVDPa1xIK4Fnp,3gUFSe8zIIClWgPj7CNYFi,3hsY5MoqiOpIn4bcRtizMZ,3jWyLzK2XnBYg0M02wPjbn,3neKhXDhXf17BiKa1noeUX,3oIRRjzbZhl07MqcEG7nhH,3pmP3hLi7HYOZYCuxZm1aE,3rVXcHkfWFhHx9Str4J1Wr,3t0l1FEYQQpjmCJtsPIvN3,3t9JBaGfPOEQbNIexSOgDf,3tpof5OFTKWH4U0rPFTEYQ,3uh7YcFzAWHGg7spVzPfqP,3ujliGKxByL8Va0phmVSEv,3w1F13Rv4JO51g5ksX0JzL,3w39hZDGqukIsEajUX5FH9,3xWfLEFVduwUuVOYwl29FD,3yS2615iCahNh10KyfNQA5,3zRY4aZB5RfGlJXafJnfY0,439gEXy3QO4CwMA2Fd8yDS,43BebLBBuSCg4qauLd1eqc,43LajfnvG9QTQ5VLqNUdHs,44P02BdN2fK0IMwYDUVIT2,46MCRTlHg2RK4c9eOmrZaU,46taYp5BODIX9i43VFPGDV,4C9pMTWyEBsYJ6NAh0uIWE,4Gyevf6hfKBzh69K79twjP,4HsvrYvpcFefRvQSBkTXyJ,4MyiAZ0G0LhwfTfEJxrN8C,4PM5CltOCcwkFJBfAyAhhJ,4QTUKOwsEsZjLe2YV65Oww,4SFbevneLmLf9upVuzVK2t,4SJTFnmmfxotIdw2psMeDp,4TBawOJBjdMe9ZetXnNP0R,4TUPsBH8KWrV7mXreb4mlk,4TZbJI4hnIysvYCThJyzxI,4YQWW24PWJ1Z0BXudSj74U,4YqCQOLbUGSWFGUJntT4Za,4ZUngICJ4zrMitnI56bSuU,4fBEaB10o2LaYndqsHxmfc,4hFp1rplSduHBc2xRtEPHs,4hbpxoMCp62bd1sdy7XehS,4mZlQk9Ha7WwJZUngARQeY,4q3EWeJ8C8wnaBx5ASx7R1,4rQLR7Z5iLzEOTiufXvFBM,4rQiVDhgeYvggWzNE9H8qP,4sB00FJDWKlr9ywFguc1FY,4zEWFiaChRJBI6m0LjQoeG,51YTYfZ3KvaqaaO2Y0ygfg,52O3MLLIHlQ4FDItAOsEDt,53ngvtha832CNMNiHY6llE,54zPa7f4nflMwBk9Iwl7br,55LGjZQ666HAAmwTe1rHu0,55r2KbynzNNC2xLRLCKvZc,5ALmBSQxAsHNjOAOqxmxI6,5Aa7RD4Pdp14vII8SVsrSS,5B1AuTvfXRlD2chmxIbCl2,5ByyR0yMyYLM0FG3amRG28,5DA5G9U7ZwBp2kZtKzpiaA,5DzxKdLeCf34dCCATroMz3,5FA9XC36IlV9bnhMqqzNc9,5FAAnScP4CJfEzecfnlXJI,5FAC0o51hKBJZHTL423thO,5FACElUQ6euTQx5VkWaJk9,5FAHHNzy5vDIXoA42A6fhx,5FAWodjHblif7DksmayBmq,5FAl0lIi2CUgrjMab1is7d,5FAopPQlENd6rZNNdSl8Nd,5FAvUzCQzEMmx5WA1C3DLo,5FAzAZ8E2611bVaxvNHhVN,5FB0Vxo53wb9HTkK51AicO,5FB5hFjIuwjkPqsU8Mc9AR,5FBAnvsSuOwQmxk6vRp1N4,5FBNbJHO4LeRzAUXKuOfH6,5FBOSDaBez5mCxeP6Yfj7i,5FBU818hvRs84RqDJKt0QA,5FBaWYaoA8j260ctveOa4a,5FBdc4v8QmpZ8eh170V2X4,5FBihhHcMTux7eAcKZNuQ4,5FBlH5K04d7ZjZQ8oXOyIN,5FBvGDfcEshfwMMTwR1kgm,5FBvSSi5wDo6jZV1mG3v4E,5FBxTvwsLYzBaC8PDQNXWl,5FBy3r3BVANmwXJEDyzkvF,5FC1CK9ghEPAc3zqBm5jMh,5FC7GUM0mli2O5f4OpWtUi,5FCBE7NTkbNykn2X7EzgZj,5FCFHWLwb6ANrxREbt9m1G,5FCM1Xr1C9yTKzc4FInetw,5FCk0gt3OuYWA7QNfdZiwm,5FCm7llRnvLPZMF34YQBCH,5FCsOkY2PjWvPjkGCthLYN,5FCtbCsDVx6C1q45lCd7ot,5FD0ciPSjuDqCOULQR0gNi,5FD5M13jPV02N6iL4yiA8t,5FDAbQDMHlVl223ytfd4qZ,5FDIbuZB5Hu9yAJW8DFPxD (Caused by ResponseError('too many 429 error responses'))",
      "\nDuring handling of the above exception, another exception occurred:\n",
      "\u001b[1;31mSpotifyException\u001b[0m                          Traceback (most recent call last)",
      "Cell \u001b[1;32mIn[6], line 8\u001b[0m\n\u001b[0;32m      7\u001b[0m     batch \u001b[38;5;241m=\u001b[39m missing_features_songs[idx\u001b[38;5;241m*\u001b[39m\u001b[38;5;241m100\u001b[39m:(idx\u001b[38;5;241m+\u001b[39m\u001b[38;5;241m1\u001b[39m)\u001b[38;5;241m*\u001b[39m\u001b[38;5;241m100\u001b[39m]\n\u001b[1;32m----> 8\u001b[0m     features \u001b[38;5;241m=\u001b[39m sp\u001b[38;5;241m.\u001b[39maudio_features(batch)\n\u001b[0;32m      9\u001b[0m \u001b[38;5;28;01mexcept\u001b[39;00m \u001b[38;5;167;01mException\u001b[39;00m \u001b[38;5;28;01mas\u001b[39;00m exception:\n",
      "File \u001b[1;32mF:\\Anaconda\\Lib\\site-packages\\spotipy\\client.py:1753\u001b[0m, in \u001b[0;36mSpotify.audio_features\u001b[1;34m(self, tracks)\u001b[0m\n\u001b[0;32m   1752\u001b[0m     tlist \u001b[38;5;241m=\u001b[39m [\u001b[38;5;28mself\u001b[39m\u001b[38;5;241m.\u001b[39m_get_id(\u001b[38;5;124m\"\u001b[39m\u001b[38;5;124mtrack\u001b[39m\u001b[38;5;124m\"\u001b[39m, t) \u001b[38;5;28;01mfor\u001b[39;00m t \u001b[38;5;129;01min\u001b[39;00m tracks]\n\u001b[1;32m-> 1753\u001b[0m     results \u001b[38;5;241m=\u001b[39m \u001b[38;5;28mself\u001b[39m\u001b[38;5;241m.\u001b[39m_get(\u001b[38;5;124m\"\u001b[39m\u001b[38;5;124maudio-features/?ids=\u001b[39m\u001b[38;5;124m\"\u001b[39m \u001b[38;5;241m+\u001b[39m \u001b[38;5;124m\"\u001b[39m\u001b[38;5;124m,\u001b[39m\u001b[38;5;124m\"\u001b[39m\u001b[38;5;241m.\u001b[39mjoin(tlist))\n\u001b[0;32m   1754\u001b[0m \u001b[38;5;66;03m# the response has changed, look for the new style first, and if\u001b[39;00m\n\u001b[0;32m   1755\u001b[0m \u001b[38;5;66;03m# it's not there, fallback on the old style\u001b[39;00m\n",
      "File \u001b[1;32mF:\\Anaconda\\Lib\\site-packages\\spotipy\\client.py:327\u001b[0m, in \u001b[0;36mSpotify._get\u001b[1;34m(self, url, args, payload, **kwargs)\u001b[0m\n\u001b[0;32m    325\u001b[0m     kwargs\u001b[38;5;241m.\u001b[39mupdate(args)\n\u001b[1;32m--> 327\u001b[0m \u001b[38;5;28;01mreturn\u001b[39;00m \u001b[38;5;28mself\u001b[39m\u001b[38;5;241m.\u001b[39m_internal_call(\u001b[38;5;124m\"\u001b[39m\u001b[38;5;124mGET\u001b[39m\u001b[38;5;124m\"\u001b[39m, url, payload, kwargs)\n",
      "File \u001b[1;32mF:\\Anaconda\\Lib\\site-packages\\spotipy\\client.py:311\u001b[0m, in \u001b[0;36mSpotify._internal_call\u001b[1;34m(self, method, url, payload, params)\u001b[0m\n\u001b[0;32m    310\u001b[0m         reason \u001b[38;5;241m=\u001b[39m \u001b[38;5;28;01mNone\u001b[39;00m\n\u001b[1;32m--> 311\u001b[0m     \u001b[38;5;28;01mraise\u001b[39;00m SpotifyException(\n\u001b[0;32m    312\u001b[0m         \u001b[38;5;241m429\u001b[39m,\n\u001b[0;32m    313\u001b[0m         \u001b[38;5;241m-\u001b[39m\u001b[38;5;241m1\u001b[39m,\n\u001b[0;32m    314\u001b[0m         \u001b[38;5;124mf\u001b[39m\u001b[38;5;124m\"\u001b[39m\u001b[38;5;132;01m{\u001b[39;00mrequest\u001b[38;5;241m.\u001b[39mpath_url\u001b[38;5;132;01m}\u001b[39;00m\u001b[38;5;124m:\u001b[39m\u001b[38;5;130;01m\\n\u001b[39;00m\u001b[38;5;124m Max Retries\u001b[39m\u001b[38;5;124m\"\u001b[39m,\n\u001b[0;32m    315\u001b[0m         reason\u001b[38;5;241m=\u001b[39mreason\n\u001b[0;32m    316\u001b[0m     )\n\u001b[0;32m    317\u001b[0m \u001b[38;5;28;01mexcept\u001b[39;00m \u001b[38;5;167;01mValueError\u001b[39;00m:\n",
      "\u001b[1;31mSpotifyException\u001b[0m: http status: 429, code:-1 - /v1/audio-features/?ids=3VrsEoh3M6BcH5QLu4Zi4q,3W02G5JB1kQc13NVACA94Y,3ZYvax9W5YigQ9bwS9byeX,3ZnZjahZlRbcH4tqycNdfC,3eZk3GxGcwVDPa1xIK4Fnp,3gUFSe8zIIClWgPj7CNYFi,3hsY5MoqiOpIn4bcRtizMZ,3jWyLzK2XnBYg0M02wPjbn,3neKhXDhXf17BiKa1noeUX,3oIRRjzbZhl07MqcEG7nhH,3pmP3hLi7HYOZYCuxZm1aE,3rVXcHkfWFhHx9Str4J1Wr,3t0l1FEYQQpjmCJtsPIvN3,3t9JBaGfPOEQbNIexSOgDf,3tpof5OFTKWH4U0rPFTEYQ,3uh7YcFzAWHGg7spVzPfqP,3ujliGKxByL8Va0phmVSEv,3w1F13Rv4JO51g5ksX0JzL,3w39hZDGqukIsEajUX5FH9,3xWfLEFVduwUuVOYwl29FD,3yS2615iCahNh10KyfNQA5,3zRY4aZB5RfGlJXafJnfY0,439gEXy3QO4CwMA2Fd8yDS,43BebLBBuSCg4qauLd1eqc,43LajfnvG9QTQ5VLqNUdHs,44P02BdN2fK0IMwYDUVIT2,46MCRTlHg2RK4c9eOmrZaU,46taYp5BODIX9i43VFPGDV,4C9pMTWyEBsYJ6NAh0uIWE,4Gyevf6hfKBzh69K79twjP,4HsvrYvpcFefRvQSBkTXyJ,4MyiAZ0G0LhwfTfEJxrN8C,4PM5CltOCcwkFJBfAyAhhJ,4QTUKOwsEsZjLe2YV65Oww,4SFbevneLmLf9upVuzVK2t,4SJTFnmmfxotIdw2psMeDp,4TBawOJBjdMe9ZetXnNP0R,4TUPsBH8KWrV7mXreb4mlk,4TZbJI4hnIysvYCThJyzxI,4YQWW24PWJ1Z0BXudSj74U,4YqCQOLbUGSWFGUJntT4Za,4ZUngICJ4zrMitnI56bSuU,4fBEaB10o2LaYndqsHxmfc,4hFp1rplSduHBc2xRtEPHs,4hbpxoMCp62bd1sdy7XehS,4mZlQk9Ha7WwJZUngARQeY,4q3EWeJ8C8wnaBx5ASx7R1,4rQLR7Z5iLzEOTiufXvFBM,4rQiVDhgeYvggWzNE9H8qP,4sB00FJDWKlr9ywFguc1FY,4zEWFiaChRJBI6m0LjQoeG,51YTYfZ3KvaqaaO2Y0ygfg,52O3MLLIHlQ4FDItAOsEDt,53ngvtha832CNMNiHY6llE,54zPa7f4nflMwBk9Iwl7br,55LGjZQ666HAAmwTe1rHu0,55r2KbynzNNC2xLRLCKvZc,5ALmBSQxAsHNjOAOqxmxI6,5Aa7RD4Pdp14vII8SVsrSS,5B1AuTvfXRlD2chmxIbCl2,5ByyR0yMyYLM0FG3amRG28,5DA5G9U7ZwBp2kZtKzpiaA,5DzxKdLeCf34dCCATroMz3,5FA9XC36IlV9bnhMqqzNc9,5FAAnScP4CJfEzecfnlXJI,5FAC0o51hKBJZHTL423thO,5FACElUQ6euTQx5VkWaJk9,5FAHHNzy5vDIXoA42A6fhx,5FAWodjHblif7DksmayBmq,5FAl0lIi2CUgrjMab1is7d,5FAopPQlENd6rZNNdSl8Nd,5FAvUzCQzEMmx5WA1C3DLo,5FAzAZ8E2611bVaxvNHhVN,5FB0Vxo53wb9HTkK51AicO,5FB5hFjIuwjkPqsU8Mc9AR,5FBAnvsSuOwQmxk6vRp1N4,5FBNbJHO4LeRzAUXKuOfH6,5FBOSDaBez5mCxeP6Yfj7i,5FBU818hvRs84RqDJKt0QA,5FBaWYaoA8j260ctveOa4a,5FBdc4v8QmpZ8eh170V2X4,5FBihhHcMTux7eAcKZNuQ4,5FBlH5K04d7ZjZQ8oXOyIN,5FBvGDfcEshfwMMTwR1kgm,5FBvSSi5wDo6jZV1mG3v4E,5FBxTvwsLYzBaC8PDQNXWl,5FBy3r3BVANmwXJEDyzkvF,5FC1CK9ghEPAc3zqBm5jMh,5FC7GUM0mli2O5f4OpWtUi,5FCBE7NTkbNykn2X7EzgZj,5FCFHWLwb6ANrxREbt9m1G,5FCM1Xr1C9yTKzc4FInetw,5FCk0gt3OuYWA7QNfdZiwm,5FCm7llRnvLPZMF34YQBCH,5FCsOkY2PjWvPjkGCthLYN,5FCtbCsDVx6C1q45lCd7ot,5FD0ciPSjuDqCOULQR0gNi,5FD5M13jPV02N6iL4yiA8t,5FDAbQDMHlVl223ytfd4qZ,5FDIbuZB5Hu9yAJW8DFPxD:\n Max Retries, reason: too many 429 error responses",
      "\nDuring handling of the above exception, another exception occurred:\n",
      "\u001b[1;31mKeyboardInterrupt\u001b[0m                         Traceback (most recent call last)",
      "Cell \u001b[1;32mIn[6], line 11\u001b[0m\n\u001b[0;32m      9\u001b[0m \u001b[38;5;28;01mexcept\u001b[39;00m \u001b[38;5;167;01mException\u001b[39;00m \u001b[38;5;28;01mas\u001b[39;00m exception:\n\u001b[0;32m     10\u001b[0m     \u001b[38;5;28mprint\u001b[39m(exception)\n\u001b[1;32m---> 11\u001b[0m     sleep(\u001b[38;5;241m5\u001b[39m)\n\u001b[0;32m     13\u001b[0m \u001b[38;5;28;01mfor\u001b[39;00m f \u001b[38;5;129;01min\u001b[39;00m features:\n\u001b[0;32m     14\u001b[0m     \u001b[38;5;28;01mtry\u001b[39;00m:\n",
      "\u001b[1;31mKeyboardInterrupt\u001b[0m: "
     ]
    }
   ],
   "source": [
    "missing_features_songs = list(map(lambda s: s[0], database.get_query_database(query_2)))\n",
    "for idx in range(len(missing_features_songs)//100+1):\n",
    "    if idx % 50 == 0 and idx != 0:\n",
    "        sleep(3)\n",
    "        print(idx, datetime.now())\n",
    "    try:\n",
    "        batch = missing_features_songs[idx*100:(idx+1)*100]\n",
    "        features = sp.audio_features(batch)\n",
    "    except Exception as exception:\n",
    "        print(exception)\n",
    "        sleep(5)\n",
    "\n",
    "    for f in features:\n",
    "        try:\n",
    "            database.songs_features_insert(SongFeatures(f))\n",
    "        except DBException as exception_db:\n",
    "            print(exception_db)\n",
    "            continue\n",
    "        except ValueError as exception_value:\n",
    "            continue"
   ]
  },
  {
   "cell_type": "code",
   "execution_count": 13,
   "id": "1b89b7bb-ac11-4796-93fc-143c6e495455",
   "metadata": {},
   "outputs": [
    {
     "name": "stdout",
     "output_type": "stream",
     "text": [
      "On branch master\n",
      "Changes not staged for commit:\n",
      "  (use \"git add <file>...\" to update what will be committed)\n",
      "  (use \"git restore <file>...\" to discard changes in working directory)\n",
      "\tmodified:   dataset-creator.ipynb\n",
      "\tmodified:   db_management/__pycache__/db.cpython-311.pyc\n",
      "\tmodified:   db_management/db.py\n",
      "\n",
      "no changes added to commit (use \"git add\" and/or \"git commit -a\")\n"
     ]
    }
   ],
   "source": [
    "!git status"
   ]
  },
  {
   "cell_type": "code",
   "execution_count": 14,
   "id": "81109838-9ad4-4980-af71-a60647385220",
   "metadata": {},
   "outputs": [
    {
     "name": "stderr",
     "output_type": "stream",
     "text": [
      "warning: in the working copy of 'dataset-creator.ipynb', LF will be replaced by CRLF the next time Git touches it\n"
     ]
    }
   ],
   "source": [
    "!git add ."
   ]
  },
  {
   "cell_type": "code",
   "execution_count": 15,
   "id": "6da0d352-ae4e-4d4c-a95c-59ea184c3864",
   "metadata": {},
   "outputs": [
    {
     "name": "stdout",
     "output_type": "stream",
     "text": [
      "[master 5d3400d] features, lots of data\n",
      " 3 files changed, 1333 insertions(+), 324 deletions(-)\n"
     ]
    }
   ],
   "source": [
    "!git commit -m \"features, lots of data\""
   ]
  },
  {
   "cell_type": "code",
   "execution_count": 16,
   "id": "88e5a19b-9a11-4560-9367-1e37db7c6b0c",
   "metadata": {},
   "outputs": [
    {
     "name": "stderr",
     "output_type": "stream",
     "text": [
      "To github.com:milonpabis/songs-across-years.git\n",
      "   8fd8409..5d3400d  master -> master\n"
     ]
    }
   ],
   "source": [
    "!git push origin master"
   ]
  },
  {
   "cell_type": "code",
   "execution_count": null,
   "id": "e690367d-9bbe-439d-b528-d6271e8b1173",
   "metadata": {},
   "outputs": [],
   "source": []
  }
 ],
 "metadata": {
  "kernelspec": {
   "display_name": "Python 3 (ipykernel)",
   "language": "python",
   "name": "python3"
  },
  "language_info": {
   "codemirror_mode": {
    "name": "ipython",
    "version": 3
   },
   "file_extension": ".py",
   "mimetype": "text/x-python",
   "name": "python",
   "nbconvert_exporter": "python",
   "pygments_lexer": "ipython3",
   "version": "3.11.7"
  }
 },
 "nbformat": 4,
 "nbformat_minor": 5
}
