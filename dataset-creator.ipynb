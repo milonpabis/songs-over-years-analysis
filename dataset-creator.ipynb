{
 "cells": [
  {
   "cell_type": "code",
   "execution_count": 31,
   "id": "239b4c73-1e08-4bfd-96e1-d8b367a4b4df",
   "metadata": {},
   "outputs": [],
   "source": [
    "import pandas as pd\n",
    "import numpy as np\n",
    "import requests\n",
    "import spotipy\n",
    "from spotipy.oauth2 import SpotifyOAuth\n",
    "import os\n",
    "from datetime import datetime, timedelta\n",
    "from bs4 import BeautifulSoup\n",
    "from typing import Tuple, List, NamedTuple"
   ]
  },
  {
   "cell_type": "code",
   "execution_count": 3,
   "id": "68efd823-965c-4091-8d01-078b5de9d782",
   "metadata": {},
   "outputs": [
    {
     "name": "stdin",
     "output_type": "stream",
     "text": [
      "Enter the URL you were redirected to:  https://example.com/?code=AQAAO8oqzOHBgcWRzrQroTFqQ3Hb8VvLcTb73rJPe4xOZQLvuNgSdb7oqr_22tNQLCwjhVffEkV_l5KAt7hS_r0d5BAbwYHRmvWgVSgvcylDPy_F2nZS_Qu5H93JiTvsczdLJB27AMccwtVx534WeD8hwM5eTQlQCpyzeRAkmJgIY4oy72RL9G85ZfGBZg\n"
     ]
    }
   ],
   "source": [
    "CLIENT_ID = os.environ[\"SPOTIFY_CLIENT_ID\"]\n",
    "CLIENT_SECRET = os.environ[\"SPOTIFY_CLIENT_SECRET\"]\n",
    "\n",
    "sp = spotipy.Spotify(auth_manager=SpotifyOAuth(client_id=CLIENT_ID, client_secret=CLIENT_SECRET, redirect_uri='http://example.com', scope=\"playlist-modify-public\"))\n",
    "\n",
    "track_name = \"Save Your Tears\"\n",
    "artist_name = \"Weeknd\"\n",
    "\n",
    "a = sp.search(q=f\"track: {track_name} artist: {artist_name}\", type='track', limit=1)"
   ]
  },
  {
   "cell_type": "code",
   "execution_count": 97,
   "id": "bb9daeeb-c883-4caf-ac6d-b0099150f78e",
   "metadata": {},
   "outputs": [],
   "source": [
    "ENDPOINT_CHARTS = \"https://www.officialcharts.com/charts/singles-chart/%s/7501/\"\n",
    "\n",
    "def generate_dates(week_gap: int = 2, years_back: int = 50):\n",
    "\n",
    "    today = datetime.now()\n",
    "    start_date = today - timedelta(days=365*years_back)\n",
    "    print(len([n for n in range(int((today-start_date).days//(week_gap*7)))]))\n",
    "    \n",
    "    for n in range(int((today - start_date).days//(week_gap*7))):\n",
    "        yield start_date + timedelta(days=n*week_gap*7)"
   ]
  },
  {
   "cell_type": "code",
   "execution_count": 114,
   "id": "3df22231-b7f8-40c7-975c-55db2f8de2f0",
   "metadata": {},
   "outputs": [],
   "source": [
    "class SongInfo:\n",
    "\n",
    "    def __init__(self, artist: str, song: str):\n",
    "        self.artist = artist\n",
    "        self.song = song\n",
    "\n",
    "    def __eq__(self, other) -> bool:\n",
    "        if isinstance(other, SongInfo):\n",
    "            return all([self.artist == other.artist, self.song == other.song])\n",
    "        return False\n",
    "\n",
    "\n",
    "class IDSongInfo(SongInfo):\n",
    "\n",
    "    def __init__(self, artist: str, song:str, release_date: str, id: str, featured: bool):\n",
    "        super().__init__(artist, song)\n",
    "        self.release_date = release_date\n",
    "        self.id = id\n",
    "        self.featured = featured\n",
    "\n",
    "    \n",
    "    def __eq__(self, other) -> bool:\n",
    "        if isinstance(other, IDSongInfo):\n",
    "            return self.id == other.id\n",
    "        return False\n",
    "\n",
    "\n",
    "    def __str__(self) -> str:\n",
    "        return f\"{self.artist}: '{self.song}' | {self.id}\"\n",
    "\n",
    "\n",
    "class SongsContainer:\n",
    "\n",
    "    def __init__(self):\n",
    "        self.songs = []\n",
    "\n",
    "\n",
    "    def add_song(self, song: SongInfo) -> None:\n",
    "        if song not in self.songs and isinstance(song, SongInfo):\n",
    "            self.songs.append(song)\n",
    "\n",
    "    \n",
    "    def get_csv(self) -> str:\n",
    "        return \"\\n\".join([f\"{song.song},{song.artist}\" for song in self.songs])\n",
    "\n",
    "    \n",
    "    def from_csv(self, csv_path: str) -> None:\n",
    "        data = pd.read_csv(csv_path, on_bad_lines='skip', header=None, names=[\"Song\", \"Artist\"])\n",
    "        for idx, song in data.iterrows():\n",
    "            try:\n",
    "                self.songs.append(SongInfo(song[\"Artist\"], song[\"Song\"]))\n",
    "            except Exception as exception:\n",
    "                print(idx)\n",
    "                raise exception from None\n",
    "        \n",
    "\n",
    "    def __len__(self) -> int:\n",
    "        return len(self.songs)"
   ]
  },
  {
   "cell_type": "code",
   "execution_count": 106,
   "id": "e058f0a6-c7cb-44d4-87ab-fe2e20956a14",
   "metadata": {},
   "outputs": [],
   "source": [
    "def retrieve_top_songs(date: str, container: SongsContainer) -> SongsContainer:\n",
    "    try:\n",
    "        response = requests.get(ENDPOINT_CHARTS % date)\n",
    "        response.raise_for_status()\n",
    "        soup = BeautifulSoup(response.text, \"html.parser\")\n",
    "        items = soup.find_all(\"div\", {\"class\": \"chart-item\"})\n",
    "\n",
    "        for item in items:\n",
    "            try:\n",
    "                song = item.find(\"a\", {\"class\": \"chart-name\"}).find(\"span\", {\"class\": None})\n",
    "                artist = item.find(\"a\", {\"class\": \"chart-artist\"}).find(\"span\", {\"class\": None})\n",
    "    \n",
    "                container.add_song(SongInfo(artist.text, song.text))\n",
    "            except:\n",
    "                continue\n",
    "        return container\n",
    "        \n",
    "    except Exception as exception:\n",
    "        print(exception)"
   ]
  },
  {
   "cell_type": "code",
   "execution_count": 107,
   "id": "be83ca58-28d0-40d3-981b-d7e17037ec0a",
   "metadata": {},
   "outputs": [
    {
     "name": "stdout",
     "output_type": "stream",
     "text": [
      "3128\n",
      "100 19660615\n",
      "201 19680522\n",
      "302 19700429\n",
      "403 19720405\n",
      "504 19740313\n",
      "605 19760218\n",
      "706 19780125\n",
      "807 19800102\n",
      "908 19811209\n",
      "1009 19831116\n",
      "1110 19851023\n",
      "1211 19870930\n",
      "1312 19890906\n",
      "1413 19910814\n",
      "1514 19930721\n",
      "1615 19950628\n",
      "1716 19970604\n",
      "1817 19990512\n",
      "1918 20010418\n",
      "2019 20030326\n",
      "2120 20050302\n",
      "2221 20070207\n",
      "2322 20090114\n",
      "2423 20101222\n",
      "2524 20121128\n",
      "2625 20141105\n",
      "2726 20161012\n",
      "2827 20180919\n",
      "2928 20200826\n",
      "3029 20220803\n"
     ]
    }
   ],
   "source": [
    "songs = SongsContainer()\n",
    "for idx, single_date in enumerate(generate_dates(week_gap=1, years_back=60)):\n",
    "    date = single_date.strftime(\"%Y%m%d\")\n",
    "    retrieve_top_songs(date, songs)\n",
    "    if idx % 101 == 100:\n",
    "        print(idx, date)"
   ]
  },
  {
   "cell_type": "code",
   "execution_count": 108,
   "id": "c0f0fe7f-35ec-43a2-b196-7f0c0b247e2c",
   "metadata": {},
   "outputs": [
    {
     "data": {
      "text/plain": [
       "43220"
      ]
     },
     "execution_count": 108,
     "metadata": {},
     "output_type": "execute_result"
    }
   ],
   "source": [
    "len(songs)"
   ]
  },
  {
   "cell_type": "code",
   "execution_count": 109,
   "id": "be31f470-21cc-46ea-b82c-f0e43c605f77",
   "metadata": {},
   "outputs": [],
   "source": [
    "with open(\"songs2.csv\", \"w\", encoding=\"utf-8\") as file:\n",
    "    file.write(songs.get_csv())"
   ]
  },
  {
   "cell_type": "code",
   "execution_count": 111,
   "id": "37320ad8-2325-4f8b-ba87-c781ec2d7883",
   "metadata": {},
   "outputs": [],
   "source": [
    "songs = SongsContainer()\n",
    "songs.from_csv(\"songs2.csv\")"
   ]
  },
  {
   "cell_type": "code",
   "execution_count": 112,
   "id": "b2738af8-b201-4e6f-9eaa-4a1a795d9d8c",
   "metadata": {},
   "outputs": [
    {
     "data": {
      "text/plain": [
       "42927"
      ]
     },
     "execution_count": 112,
     "metadata": {},
     "output_type": "execute_result"
    }
   ],
   "source": [
    "len(songs)"
   ]
  },
  {
   "cell_type": "code",
   "execution_count": 118,
   "id": "25be0715-9572-4d85-9c84-df72ff7f1d74",
   "metadata": {},
   "outputs": [],
   "source": [
    "def get_song_id(s: SongInfo) -> IDSongInfo:\n",
    "    ext_info = sp.search(q=f\"track: {s.song} artist: {s.artist}\", type='track', limit=1)\n",
    "    item = ext_info[\"tracks\"][\"items\"][0]\n",
    "    \n",
    "    id = item[\"id\"]\n",
    "    date = item[\"album\"][\"release_date\"]\n",
    "    artist = item[\"artists\"][0][\"name\"]\n",
    "    song = item[\"name\"]\n",
    "    featured = len(item[\"artists\"]) > 1\n",
    "\n",
    "    return IDSongInfo(artist, song, date, id, featured)"
   ]
  },
  {
   "cell_type": "code",
   "execution_count": 119,
   "id": "6cf82818-c9ac-473b-8279-3f84412575f5",
   "metadata": {},
   "outputs": [
    {
     "name": "stdout",
     "output_type": "stream",
     "text": [
      "THE ANIMALS HOUSE OF THE RISING SUN\n",
      "Italian Hitmakers: 'House of the rising sun (style the animals) - [karaoke version]' | 66G2sH4SjwYymh4YsSmiyv\n",
      "THE ROLLING STONES IT'S ALL OVER NOW\n",
      "The Rolling Stones: 'It's All Over Now - Mono Version' | 6fLTxkL2wgC40fBM6IIe7r\n",
      "P J PROBY HOLD ME\n",
      "ØGM: 'Hold Me' | 7xJ9izrPOR2qyPW7N6jIjP\n",
      "ROY ORBISON IT'S OVER\n",
      "Roy Orbison: 'It's Over' | 3HZMEIZY9Z6GdhPaG5bAK2\n",
      "THE BACHELORS RAMONA\n",
      "The Bachelors: 'Ramona' | 0v7jFrp11rRCc61st81ZYB\n",
      "\n",
      "\n",
      " 0:00:00.936188\n"
     ]
    }
   ],
   "source": [
    "start = datetime.now()\n",
    "for s in songs.songs[:5]:\n",
    "    print(s.artist, s.song)\n",
    "    print(get_song_id(s))\n",
    "print(\"\\n\\n\", datetime.now()-start)"
   ]
  },
  {
   "cell_type": "code",
   "execution_count": null,
   "id": "b18370e7-a1c6-46b6-922d-5a9e9b4832d0",
   "metadata": {},
   "outputs": [],
   "source": []
  }
 ],
 "metadata": {
  "kernelspec": {
   "display_name": "Python 3 (ipykernel)",
   "language": "python",
   "name": "python3"
  },
  "language_info": {
   "codemirror_mode": {
    "name": "ipython",
    "version": 3
   },
   "file_extension": ".py",
   "mimetype": "text/x-python",
   "name": "python",
   "nbconvert_exporter": "python",
   "pygments_lexer": "ipython3",
   "version": "3.11.7"
  }
 },
 "nbformat": 4,
 "nbformat_minor": 5
}
